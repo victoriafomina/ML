{
 "cells": [
  {
   "attachments": {},
   "cell_type": "markdown",
   "id": "190d7083",
   "metadata": {},
   "source": [
    "# Задача 3 Многоклассовая классификация и множественная классификация/регрессия\n",
    "Фомина Виктория Викторовна, 22.М07"
   ]
  },
  {
   "attachments": {},
   "cell_type": "markdown",
   "id": "c6a5f8ac",
   "metadata": {},
   "source": [
    "# Задача\n",
    "\n",
    "- [+] Изучите [возможности sklearn](https://scikit-learn.org/stable/modules/multiclass.html#multiclass-classification) для решения задач **Multiclass classification**, **Multilabel classification** и **Multioutput Regression**. Основные компоненты библиотеки указаны на рисунке ниже.\n",
    "![multi_org_chart](https://scikit-learn.org/stable/_images/multi_org_chart.png)\n",
    "\n",
    "- [+] Найдите данные, на которых можно решить задачу **Multiclass classification** (классификация с более чем двумя классами). В крайнем случае преобразуйте данные, предназначенные для другой задачи.\n",
    "- [+] Выполнить разведочный анализ (**EDA**), использовать визуализацию, сделать выводы, которые могут быть полезны при дальнейшем решении задачи.\n",
    "- [+] При необходимости выполнить полезные преобразования данных (например, трансформировать категариальные признаки в количественные), убрать ненужные признаки, создать новые (**Feature Engineering**).\n",
    "- [+] Используя стратегии **OneVsRest**, **OneVsOne** и **OutputCode** решите задачу **Multiclass classification** для каждого из пройденных базового алгоритма классификации (**logistic regression, svm, knn, naive bayes, decision tree**). При обучении использовать **подбор гиперпараметров**, **кросс-валидацию** и при необходимости **масштабирование данных**, добиться наилучшего качества предсказания.\n",
    "- [+] Замерить время обучения каждой модели для каждой стратегии.\n",
    "- [+] Для оценки качества моделей используйте метрику **AUC-ROC**.\n",
    "- [+] Сравнить время обучения и качество всех моделей и всех стратегий. Сделать выводы.\n",
    "- [+] (**+3 балла**) Повторить все пункты для задачи **Multilabel classification** (классификация с несколькими целевыми признаками, например, бинарными). В качестве стратегий попробовать **MultiOutputClassifier** и **ClassifierChain**.\n",
    "- [+] (**+2 балла**) Повторить все пункты для задачи **Multioutput Regression** (регрессия с несколькими целевыми признаками, вещественными). Модель попробовать как минимум одну: **Ridge**. В качестве стратегий попробовать **MultiOutputRegressor** и **RegressorChain**. В качестве метрики использовать **R2**."
   ]
  },
  {
   "attachments": {},
   "cell_type": "markdown",
   "id": "11969cee",
   "metadata": {},
   "source": [
    "## Multiclass classification"
   ]
  },
  {
   "attachments": {},
   "cell_type": "markdown",
   "id": "05cbd3d1",
   "metadata": {},
   "source": [
    "### Data\n",
    "\n",
    "The task uses a dataset that contains information about the physical capabilities of people of different ages.\n",
    "\n",
    "Dataset Description:\n",
    "\n",
    "- age\n",
    "- gender\n",
    "- height_cm - height in centimeters\n",
    "- weight_kg - weight in kilograms\n",
    "- body fat_% - fat percentage\n",
    "- diastolic - minimum value of diastolic blood pressure\n",
    "- systolic - minimum value of systolic blood pressure\n",
    "- gripForce\n",
    "- sit and bend forward_cm - maximum forward bend in centimeters\n",
    "- sit-ups counts - number of squats\n",
    "- broad jump_cm - long jump in centimeters\n",
    "- class (A - best)\n",
    "\n",
    "The target feature is **class**."
   ]
  },
  {
   "cell_type": "code",
   "execution_count": 335,
   "id": "0d641510",
   "metadata": {},
   "outputs": [
    {
     "data": {
      "text/plain": [
       "'%.4f'"
      ]
     },
     "execution_count": 335,
     "metadata": {},
     "output_type": "execute_result"
    }
   ],
   "source": [
    "import numpy as np \n",
    "import pandas as pd\n",
    "import matplotlib.pyplot as plt\n",
    "%matplotlib inline\n",
    "import seaborn as sns\n",
    "\n",
    "# set floating point precision\n",
    "%precision %.4f"
   ]
  },
  {
   "cell_type": "code",
   "execution_count": 336,
   "id": "5c05e898",
   "metadata": {},
   "outputs": [
    {
     "data": {
      "text/html": [
       "<div>\n",
       "<style scoped>\n",
       "    .dataframe tbody tr th:only-of-type {\n",
       "        vertical-align: middle;\n",
       "    }\n",
       "\n",
       "    .dataframe tbody tr th {\n",
       "        vertical-align: top;\n",
       "    }\n",
       "\n",
       "    .dataframe thead th {\n",
       "        text-align: right;\n",
       "    }\n",
       "</style>\n",
       "<table border=\"1\" class=\"dataframe\">\n",
       "  <thead>\n",
       "    <tr style=\"text-align: right;\">\n",
       "      <th></th>\n",
       "      <th>age</th>\n",
       "      <th>gender</th>\n",
       "      <th>height_cm</th>\n",
       "      <th>weight_kg</th>\n",
       "      <th>body fat_%</th>\n",
       "      <th>diastolic</th>\n",
       "      <th>systolic</th>\n",
       "      <th>gripForce</th>\n",
       "      <th>sit and bend forward_cm</th>\n",
       "      <th>sit-ups counts</th>\n",
       "      <th>broad jump_cm</th>\n",
       "      <th>class</th>\n",
       "    </tr>\n",
       "  </thead>\n",
       "  <tbody>\n",
       "    <tr>\n",
       "      <th>0</th>\n",
       "      <td>27.0</td>\n",
       "      <td>M</td>\n",
       "      <td>172.3</td>\n",
       "      <td>75.24</td>\n",
       "      <td>21.3</td>\n",
       "      <td>80.0</td>\n",
       "      <td>130.0</td>\n",
       "      <td>54.9</td>\n",
       "      <td>18.4</td>\n",
       "      <td>60.0</td>\n",
       "      <td>217.0</td>\n",
       "      <td>C</td>\n",
       "    </tr>\n",
       "    <tr>\n",
       "      <th>1</th>\n",
       "      <td>25.0</td>\n",
       "      <td>M</td>\n",
       "      <td>165.0</td>\n",
       "      <td>55.80</td>\n",
       "      <td>15.7</td>\n",
       "      <td>77.0</td>\n",
       "      <td>126.0</td>\n",
       "      <td>36.4</td>\n",
       "      <td>16.3</td>\n",
       "      <td>53.0</td>\n",
       "      <td>229.0</td>\n",
       "      <td>A</td>\n",
       "    </tr>\n",
       "    <tr>\n",
       "      <th>2</th>\n",
       "      <td>31.0</td>\n",
       "      <td>M</td>\n",
       "      <td>179.6</td>\n",
       "      <td>78.00</td>\n",
       "      <td>20.1</td>\n",
       "      <td>92.0</td>\n",
       "      <td>152.0</td>\n",
       "      <td>44.8</td>\n",
       "      <td>12.0</td>\n",
       "      <td>49.0</td>\n",
       "      <td>181.0</td>\n",
       "      <td>C</td>\n",
       "    </tr>\n",
       "    <tr>\n",
       "      <th>3</th>\n",
       "      <td>32.0</td>\n",
       "      <td>M</td>\n",
       "      <td>174.5</td>\n",
       "      <td>71.10</td>\n",
       "      <td>18.4</td>\n",
       "      <td>76.0</td>\n",
       "      <td>147.0</td>\n",
       "      <td>41.4</td>\n",
       "      <td>15.2</td>\n",
       "      <td>53.0</td>\n",
       "      <td>219.0</td>\n",
       "      <td>B</td>\n",
       "    </tr>\n",
       "    <tr>\n",
       "      <th>4</th>\n",
       "      <td>28.0</td>\n",
       "      <td>M</td>\n",
       "      <td>173.8</td>\n",
       "      <td>67.70</td>\n",
       "      <td>17.1</td>\n",
       "      <td>70.0</td>\n",
       "      <td>127.0</td>\n",
       "      <td>43.5</td>\n",
       "      <td>27.1</td>\n",
       "      <td>45.0</td>\n",
       "      <td>217.0</td>\n",
       "      <td>B</td>\n",
       "    </tr>\n",
       "  </tbody>\n",
       "</table>\n",
       "</div>"
      ],
      "text/plain": [
       "    age gender  height_cm  weight_kg  body fat_%  diastolic  systolic  \\\n",
       "0  27.0      M      172.3      75.24        21.3       80.0     130.0   \n",
       "1  25.0      M      165.0      55.80        15.7       77.0     126.0   \n",
       "2  31.0      M      179.6      78.00        20.1       92.0     152.0   \n",
       "3  32.0      M      174.5      71.10        18.4       76.0     147.0   \n",
       "4  28.0      M      173.8      67.70        17.1       70.0     127.0   \n",
       "\n",
       "   gripForce  sit and bend forward_cm  sit-ups counts  broad jump_cm class  \n",
       "0       54.9                     18.4            60.0          217.0     C  \n",
       "1       36.4                     16.3            53.0          229.0     A  \n",
       "2       44.8                     12.0            49.0          181.0     C  \n",
       "3       41.4                     15.2            53.0          219.0     B  \n",
       "4       43.5                     27.1            45.0          217.0     B  "
      ]
     },
     "execution_count": 336,
     "metadata": {},
     "output_type": "execute_result"
    }
   ],
   "source": [
    "# Reading the training sample:\n",
    "df = pd.read_csv('Dataset/body_performance.csv')\n",
    "df.head()"
   ]
  },
  {
   "cell_type": "code",
   "execution_count": 337,
   "id": "ad126009",
   "metadata": {},
   "outputs": [
    {
     "data": {
      "text/plain": [
       "age                        0\n",
       "gender                     0\n",
       "height_cm                  0\n",
       "weight_kg                  0\n",
       "body fat_%                 0\n",
       "diastolic                  0\n",
       "systolic                   0\n",
       "gripForce                  0\n",
       "sit and bend forward_cm    0\n",
       "sit-ups counts             0\n",
       "broad jump_cm              0\n",
       "class                      0\n",
       "dtype: int64"
      ]
     },
     "execution_count": 337,
     "metadata": {},
     "output_type": "execute_result"
    }
   ],
   "source": [
    "# Total number of missing values:\n",
    "df.isnull().sum()"
   ]
  },
  {
   "attachments": {},
   "cell_type": "markdown",
   "id": "29e6a3b0",
   "metadata": {},
   "source": [
    "### Разведочный анализ"
   ]
  },
  {
   "cell_type": "code",
   "execution_count": 338,
   "id": "c26476ff",
   "metadata": {},
   "outputs": [
    {
     "data": {
      "text/plain": [
       "C    3349\n",
       "D    3349\n",
       "A    3348\n",
       "B    3347\n",
       "Name: class, dtype: int64"
      ]
     },
     "execution_count": 338,
     "metadata": {},
     "output_type": "execute_result"
    }
   ],
   "source": [
    "# Consider how many values the target feature takes:\n",
    "df['class'].value_counts()"
   ]
  },
  {
   "attachments": {},
   "cell_type": "markdown",
   "id": "e8bd2621",
   "metadata": {},
   "source": [
    "Построим график:"
   ]
  },
  {
   "cell_type": "code",
   "execution_count": 339,
   "id": "45f48ce6",
   "metadata": {},
   "outputs": [
    {
     "data": {
      "image/png": "[encoded data removed]",
      "text/plain": [
       "<Figure size 640x480 with 1 Axes>"
      ]
     },
     "metadata": {},
     "output_type": "display_data"
    }
   ],
   "source": [
    "# Let's build a graph:\n",
    "sns.countplot(x=\"class\", data=df)\n",
    "plt.xlabel('Признак \"class\"')\n",
    "plt.ylabel(\"Количество\")\n",
    "plt.title(\"The dataset has an almost equal number of all classes\")\n",
    "plt.show()"
   ]
  },
  {
   "cell_type": "code",
   "execution_count": 340,
   "id": "e7a3da31",
   "metadata": {},
   "outputs": [
    {
     "data": {
      "text/plain": [
       "count    13393.000000\n",
       "mean        36.775106\n",
       "std         13.625639\n",
       "min         21.000000\n",
       "25%         25.000000\n",
       "50%         32.000000\n",
       "75%         48.000000\n",
       "max         64.000000\n",
       "Name: age, dtype: float64"
      ]
     },
     "execution_count": 340,
     "metadata": {},
     "output_type": "execute_result"
    }
   ],
   "source": [
    "# Characteristic values **age**\n",
    "df['age'].describe()"
   ]
  },
  {
   "cell_type": "code",
   "execution_count": 341,
   "id": "d8ff88c5",
   "metadata": {},
   "outputs": [],
   "source": [
    "# Let's introduce an additional function for convenient display of graphs:\n",
    "def show_class_crosstab(x_param, x_param_name=\"\", figsize_number=20):\n",
    "    pd.crosstab(df[x_param], df['class']).plot(kind=\"bar\", figsize=(figsize_number, 6))\n",
    "    plt.xlabel(x_param_name)\n",
    "    plt.ylabel('Quantity per class')\n",
    "    plt.show()\n",
    "\n",
    "def show_barplot(x_param_name):\n",
    "    plt.figure(figsize=(20, 5))\n",
    "    plt.grid(axis=\"x\")\n",
    "    plt.xticks(rotation=90)\n",
    "    plt.title('Belonging to a class relative to a parameter' + x_param_name, fontsize=20)\n",
    "    plt.xlabel(x_param_name, fontsize= 15)\n",
    "    plt.ylabel('class', fontsize= 15)\n",
    "    sns.barplot(x = df[x_param_name], y = df['class'])\n",
    "    plt.show()"
   ]
  },
  {
   "cell_type": "code",
   "execution_count": 342,
   "id": "2d52934c",
   "metadata": {},
   "outputs": [
    {
     "data": {
      "image/png": "[encoded data removed]",
      "text/plain": [
       "<Figure size 1500x600 with 1 Axes>"
      ]
     },
     "metadata": {},
     "output_type": "display_data"
    }
   ],
   "source": [
    "show_class_crosstab('age', 'Age', 15)"
   ]
  },
  {
   "cell_type": "code",
   "execution_count": 343,
   "id": "2ac857a1",
   "metadata": {},
   "outputs": [
    {
     "data": {
      "image/png": "[encoded data removed]",
      "text/plain": [
       "<Figure size 2000x500 with 1 Axes>"
      ]
     },
     "metadata": {},
     "output_type": "display_data"
    }
   ],
   "source": [
    "show_barplot('age')"
   ]
  },
  {
   "attachments": {},
   "cell_type": "markdown",
   "id": "dd51f8f6",
   "metadata": {},
   "source": [
    "- Early ages are dominated by A and C classes\n",
    "- In the elderly - classes B and D\n",
    "- With increasing age, we see a trend of transition from classes A and B to classes C and D"
   ]
  },
  {
   "cell_type": "code",
   "execution_count": 344,
   "id": "f2e629f0",
   "metadata": {},
   "outputs": [
    {
     "data": {
      "text/plain": [
       "class\n",
       "A    35.268220\n",
       "B    37.074096\n",
       "C    36.699612\n",
       "D    38.058226\n",
       "Name: age, dtype: float64"
      ]
     },
     "execution_count": 344,
     "metadata": {},
     "output_type": "execute_result"
    }
   ],
   "source": [
    "# The average age of people in different classes:\n",
    "df.groupby('class')['age'].mean()"
   ]
  },
  {
   "attachments": {},
   "cell_type": "markdown",
   "id": "82bbaf4d",
   "metadata": {},
   "source": [
    "- In class A, the average age is lower than in other classes and is 35 years old\n",
    "- In grades B and C, the average age is 37\n",
    "- In class D - 38"
   ]
  },
  {
   "cell_type": "code",
   "execution_count": 345,
   "id": "41ab195e",
   "metadata": {},
   "outputs": [
    {
     "data": {
      "text/plain": [
       "count     13393\n",
       "unique        2\n",
       "top           M\n",
       "freq       8467\n",
       "Name: gender, dtype: object"
      ]
     },
     "execution_count": 345,
     "metadata": {},
     "output_type": "execute_result"
    }
   ],
   "source": [
    "# Discrete attribute values **gender**\n",
    "df['gender'].describe()"
   ]
  },
  {
   "cell_type": "code",
   "execution_count": 346,
   "id": "c7a22002",
   "metadata": {},
   "outputs": [
    {
     "data": {
      "image/png": "[encoded data removed]",
      "text/plain": [
       "<Figure size 640x480 with 1 Axes>"
      ]
     },
     "metadata": {},
     "output_type": "display_data"
    }
   ],
   "source": [
    "# Let's build a graph:\n",
    "sns.countplot(x=\"gender\", data=df)\n",
    "plt.xlabel('Sex')\n",
    "plt.ylabel('Count')\n",
    "plt.show()"
   ]
  },
  {
   "cell_type": "code",
   "execution_count": 347,
   "id": "9231aecd",
   "metadata": {},
   "outputs": [
    {
     "data": {
      "image/png": "[encoded data removed]",
      "text/plain": [
       "<Figure size 1000x600 with 1 Axes>"
      ]
     },
     "metadata": {},
     "output_type": "display_data"
    }
   ],
   "source": [
    "# Let's build a graph of belonging to a class relative to gender:\n",
    "show_class_crosstab('gender', 'Sex', 10)"
   ]
  },
  {
   "attachments": {},
   "cell_type": "markdown",
   "id": "22b92379",
   "metadata": {},
   "source": [
    "- The attribute takes two values: F (female) and M (male)\n",
    "- Class A predominates among women\n",
    "- Among men - class C"
   ]
  },
  {
   "cell_type": "code",
   "execution_count": 348,
   "id": "7670399c",
   "metadata": {},
   "outputs": [
    {
     "data": {
      "text/plain": [
       "class  gender\n",
       "A      M         1864\n",
       "       F         1484\n",
       "B      M         2162\n",
       "       F         1185\n",
       "C      M         2237\n",
       "       F         1112\n",
       "D      M         2204\n",
       "       F         1145\n",
       "Name: gender, dtype: int64"
      ]
     },
     "execution_count": 348,
     "metadata": {},
     "output_type": "execute_result"
    }
   ],
   "source": [
    "# Let's see how many people of different sexes belong to each class on average:\n",
    "df.groupby('class')['gender'].value_counts()"
   ]
  },
  {
   "cell_type": "code",
   "execution_count": 349,
   "id": "696e0434",
   "metadata": {},
   "outputs": [
    {
     "data": {
      "text/plain": [
       "count    13393.000000\n",
       "mean       168.559807\n",
       "std          8.426583\n",
       "min        125.000000\n",
       "25%        162.400000\n",
       "50%        169.200000\n",
       "75%        174.800000\n",
       "max        193.800000\n",
       "Name: height_cm, dtype: float64"
      ]
     },
     "execution_count": 349,
     "metadata": {},
     "output_type": "execute_result"
    }
   ],
   "source": [
    "# Values of the feature height_cm\n",
    "df['height_cm'].describe()"
   ]
  },
  {
   "cell_type": "code",
   "execution_count": 350,
   "id": "be0d964b",
   "metadata": {},
   "outputs": [
    {
     "data": {
      "image/png": "[encoded data removed]",
      "text/plain": [
       "<Figure size 2000x500 with 1 Axes>"
      ]
     },
     "metadata": {},
     "output_type": "display_data"
    }
   ],
   "source": [
    "# Let's build a graph of belonging to a class with respect to height:\n",
    "show_barplot('height_cm')"
   ]
  },
  {
   "attachments": {},
   "cell_type": "markdown",
   "id": "ff46713b",
   "metadata": {},
   "source": [
    "- Smaller people dominate class A\n",
    "- With big - in class C"
   ]
  },
  {
   "cell_type": "code",
   "execution_count": 351,
   "id": "6b76ce32",
   "metadata": {},
   "outputs": [
    {
     "data": {
      "text/plain": [
       "count    13393.000000\n",
       "mean        67.447316\n",
       "std         11.949666\n",
       "min         26.300000\n",
       "25%         58.200000\n",
       "50%         67.400000\n",
       "75%         75.300000\n",
       "max        138.100000\n",
       "Name: weight_kg, dtype: float64"
      ]
     },
     "execution_count": 351,
     "metadata": {},
     "output_type": "execute_result"
    }
   ],
   "source": [
    "# Feature values weight_kg\n",
    "df['weight_kg'].describe()"
   ]
  },
  {
   "cell_type": "code",
   "execution_count": 352,
   "id": "2bdfdb0d",
   "metadata": {},
   "outputs": [
    {
     "data": {
      "text/plain": [
       "class\n",
       "A    167.871027\n",
       "B    168.580311\n",
       "C    169.162168\n",
       "D    168.625530\n",
       "Name: height_cm, dtype: float64"
      ]
     },
     "execution_count": 352,
     "metadata": {},
     "output_type": "execute_result"
    }
   ],
   "source": [
    "# Let's find out the average growth values in each class:\n",
    "df.groupby('class')['height_cm'].mean()"
   ]
  },
  {
   "cell_type": "code",
   "execution_count": 353,
   "id": "27b77441",
   "metadata": {},
   "outputs": [
    {
     "data": {
      "image/png": "[encoded data removed]",
      "text/plain": [
       "<Figure size 2000x500 with 1 Axes>"
      ]
     },
     "metadata": {},
     "output_type": "display_data"
    }
   ],
   "source": [
    "# Let's build a graph of belonging to a class relative to weight:\n",
    "show_barplot('weight_kg')"
   ]
  },
  {
   "cell_type": "code",
   "execution_count": 354,
   "id": "2aed8d5c",
   "metadata": {},
   "outputs": [
    {
     "data": {
      "text/plain": [
       "count    13393.000000\n",
       "mean        23.240165\n",
       "std          7.256844\n",
       "min          3.000000\n",
       "25%         18.000000\n",
       "50%         22.800000\n",
       "75%         28.000000\n",
       "max         78.400000\n",
       "Name: body fat_%, dtype: float64"
      ]
     },
     "execution_count": 354,
     "metadata": {},
     "output_type": "execute_result"
    }
   ],
   "source": [
    "# Sign of body fat_%\n",
    "df['body fat_%'].describe()"
   ]
  },
  {
   "cell_type": "code",
   "execution_count": 355,
   "id": "8c251962",
   "metadata": {},
   "outputs": [
    {
     "data": {
      "image/png": "[encoded data removed]",
      "text/plain": [
       "<Figure size 2000x500 with 1 Axes>"
      ]
     },
     "metadata": {},
     "output_type": "display_data"
    }
   ],
   "source": [
    "# Let's build a graph of belonging to a class relative to the percentage of fat:\n",
    "show_barplot('body fat_%')"
   ]
  },
  {
   "attachments": {},
   "cell_type": "markdown",
   "id": "1ef1e2d3",
   "metadata": {},
   "source": [
    "- The fat percentage of people in class A is significantly less than in other classes\n",
    "- The largest percentage of fat - in class D\n",
    "- With an increase in the percentage of fat, the sports class worsens"
   ]
  },
  {
   "cell_type": "code",
   "execution_count": 356,
   "id": "dcce560e",
   "metadata": {},
   "outputs": [
    {
     "data": {
      "text/plain": [
       "class\n",
       "A    20.539159\n",
       "B    22.039981\n",
       "C    22.644564\n",
       "D    27.735432\n",
       "Name: body fat_%, dtype: float64"
      ]
     },
     "execution_count": 356,
     "metadata": {},
     "output_type": "execute_result"
    }
   ],
   "source": [
    "# Let's find out the average values of the percentage of fat in each class:\n",
    "df.groupby('class')['body fat_%'].mean()"
   ]
  },
  {
   "cell_type": "code",
   "execution_count": 357,
   "id": "b5926c0e",
   "metadata": {},
   "outputs": [
    {
     "data": {
      "text/plain": [
       "count    13393.000000\n",
       "mean        78.796842\n",
       "std         10.742033\n",
       "min          0.000000\n",
       "25%         71.000000\n",
       "50%         79.000000\n",
       "75%         86.000000\n",
       "max        156.200000\n",
       "Name: diastolic, dtype: float64"
      ]
     },
     "execution_count": 357,
     "metadata": {},
     "output_type": "execute_result"
    }
   ],
   "source": [
    "# Sign of diastolic\n",
    "df['diastolic'].describe()"
   ]
  },
  {
   "cell_type": "code",
   "execution_count": 359,
   "id": "73cd310f",
   "metadata": {},
   "outputs": [
    {
     "data": {
      "image/png": "[encoded data removed]",
      "text/plain": [
       "<Figure size 2000x500 with 1 Axes>"
      ]
     },
     "metadata": {},
     "output_type": "display_data"
    }
   ],
   "source": [
    "# Let's build a class membership graph with respect to the minimum diastolic blood pressure:\n",
    "show_barplot('diastolic')"
   ]
  },
  {
   "attachments": {},
   "cell_type": "markdown",
   "id": "24f2eed1",
   "metadata": {},
   "source": [
    "- Minimum distoll blood pressure is lowest in class A\n",
    "- In class D, it has the highest value\n",
    "- There is a trend of worsening class with increasing minimum distoll blood pressure"
   ]
  },
  {
   "cell_type": "code",
   "execution_count": null,
   "id": "7fe996fa",
   "metadata": {},
   "outputs": [
    {
     "data": {
      "text/plain": [
       "class\n",
       "A    77.903345\n",
       "B    78.656468\n",
       "C    78.550672\n",
       "D    80.076530\n",
       "Name: diastolic, dtype: float64"
      ]
     },
     "execution_count": 259,
     "metadata": {},
     "output_type": "execute_result"
    }
   ],
   "source": [
    "# Find out the average value of the minimum distoll blood pressure in each class:\n",
    "df.groupby('class')['diastolic'].mean()"
   ]
  },
  {
   "cell_type": "code",
   "execution_count": null,
   "id": "48de6da4",
   "metadata": {},
   "outputs": [
    {
     "data": {
      "text/plain": [
       "count    13393.000000\n",
       "mean       130.234817\n",
       "std         14.713954\n",
       "min          0.000000\n",
       "25%        120.000000\n",
       "50%        130.000000\n",
       "75%        141.000000\n",
       "max        201.000000\n",
       "Name: systolic, dtype: float64"
      ]
     },
     "execution_count": 260,
     "metadata": {},
     "output_type": "execute_result"
    }
   ],
   "source": [
    "# Sign of systolic\n",
    "df['systolic'].describe()"
   ]
  },
  {
   "cell_type": "code",
   "execution_count": null,
   "id": "a49873db",
   "metadata": {},
   "outputs": [
    {
     "data": {
      "image/png": "[encoded data removed]",
      "text/plain": [
       "<Figure size 2000x500 with 1 Axes>"
      ]
     },
     "metadata": {},
     "output_type": "display_data"
    }
   ],
   "source": [
    "# Let's build a graph of class membership relative to the minimum systolic blood pressure:\n",
    "show_barplot('systolic')"
   ]
  },
  {
   "attachments": {},
   "cell_type": "markdown",
   "id": "b039a787",
   "metadata": {},
   "source": [
    "- Minimum distoll blood pressure is lowest in class A\n",
    "- In class D, it has the highest value\n",
    "- There is a trend of worsening class with increasing minimum systolic blood pressure"
   ]
  },
  {
   "cell_type": "code",
   "execution_count": null,
   "id": "12e51e85",
   "metadata": {},
   "outputs": [
    {
     "data": {
      "text/plain": [
       "class\n",
       "A    129.290024\n",
       "B    130.639349\n",
       "C    129.925351\n",
       "D    131.084503\n",
       "Name: systolic, dtype: float64"
      ]
     },
     "execution_count": 262,
     "metadata": {},
     "output_type": "execute_result"
    }
   ],
   "source": [
    "# Find out the average value of the minimum systolic blood pressure in each class:\n",
    "df.groupby('class')['systolic'].mean()"
   ]
  },
  {
   "cell_type": "code",
   "execution_count": null,
   "id": "69c4e6e2",
   "metadata": {},
   "outputs": [
    {
     "data": {
      "text/plain": [
       "count    13393.000000\n",
       "mean        36.963877\n",
       "std         10.624864\n",
       "min          0.000000\n",
       "25%         27.500000\n",
       "50%         37.900000\n",
       "75%         45.200000\n",
       "max         70.500000\n",
       "Name: gripForce, dtype: float64"
      ]
     },
     "execution_count": 263,
     "metadata": {},
     "output_type": "execute_result"
    }
   ],
   "source": [
    "# Sign of gripForce\n",
    "df['gripForce'].describe()"
   ]
  },
  {
   "cell_type": "code",
   "execution_count": null,
   "id": "d735442e",
   "metadata": {},
   "outputs": [
    {
     "data": {
      "image/png": "[encoded data removed]",
      "text/plain": [
       "<Figure size 2000x500 with 1 Axes>"
      ]
     },
     "metadata": {},
     "output_type": "display_data"
    }
   ],
   "source": [
    "# Let's build a class membership graph with respect to gripForce:\n",
    "show_barplot('gripForce')"
   ]
  },
  {
   "attachments": {},
   "cell_type": "markdown",
   "id": "3c29223c",
   "metadata": {},
   "source": [
    "- GripForce value is lowest in class D\n",
    "- In class A, it has the highest value\n",
    "- There is a tendency to improve the class with increasing gripForce"
   ]
  },
  {
   "cell_type": "code",
   "execution_count": null,
   "id": "45ab34e0",
   "metadata": {},
   "outputs": [
    {
     "data": {
      "text/plain": [
       "class\n",
       "A    38.615723\n",
       "B    37.910436\n",
       "C    36.582663\n",
       "D    34.747746\n",
       "Name: gripForce, dtype: float64"
      ]
     },
     "execution_count": 265,
     "metadata": {},
     "output_type": "execute_result"
    }
   ],
   "source": [
    "# Let's find out the average value of gripForce in each class:\n",
    "df.groupby('class')['gripForce'].mean()"
   ]
  },
  {
   "cell_type": "code",
   "execution_count": null,
   "id": "0d15b0c5",
   "metadata": {},
   "outputs": [
    {
     "data": {
      "text/plain": [
       "count    13393.000000\n",
       "mean        15.209268\n",
       "std          8.456677\n",
       "min        -25.000000\n",
       "25%         10.900000\n",
       "50%         16.200000\n",
       "75%         20.700000\n",
       "max        213.000000\n",
       "Name: sit and bend forward_cm, dtype: float64"
      ]
     },
     "execution_count": 266,
     "metadata": {},
     "output_type": "execute_result"
    }
   ],
   "source": [
    "# Sign of sit and bend forward_cm\n",
    "df['sit and bend forward_cm'].describe()"
   ]
  },
  {
   "cell_type": "code",
   "execution_count": null,
   "id": "573a2f36",
   "metadata": {},
   "outputs": [
    {
     "data": {
      "image/png": "[encoded data removed]",
      "text/plain": [
       "<Figure size 2000x500 with 1 Axes>"
      ]
     },
     "metadata": {},
     "output_type": "display_data"
    }
   ],
   "source": [
    "# Let's build a class membership graph relative to the maximum forward slope:\n",
    "show_barplot('sit and bend forward_cm')"
   ]
  },
  {
   "attachments": {},
   "cell_type": "markdown",
   "id": "a6606fa9",
   "metadata": {},
   "source": [
    "- The value of the maximum forward tilt is the lowest in class D\n",
    "- In class A, it has the highest value\n",
    "- There is a tendency to improve the class with increasing maximum forward lean"
   ]
  },
  {
   "cell_type": "code",
   "execution_count": null,
   "id": "13eebe1d",
   "metadata": {},
   "outputs": [
    {
     "data": {
      "text/plain": [
       "class\n",
       "A    21.391777\n",
       "B    17.467586\n",
       "C    14.390645\n",
       "D     7.590260\n",
       "Name: sit and bend forward_cm, dtype: float64"
      ]
     },
     "execution_count": 268,
     "metadata": {},
     "output_type": "execute_result"
    }
   ],
   "source": [
    "# Let's find out the average value of the maximum forward inclination in each class:\n",
    "df.groupby('class')['sit and bend forward_cm'].mean()"
   ]
  },
  {
   "cell_type": "code",
   "execution_count": null,
   "id": "fabea27a",
   "metadata": {},
   "outputs": [
    {
     "data": {
      "text/plain": [
       "count    13393.000000\n",
       "mean        39.771224\n",
       "std         14.276698\n",
       "min          0.000000\n",
       "25%         30.000000\n",
       "50%         41.000000\n",
       "75%         50.000000\n",
       "max         80.000000\n",
       "Name: sit-ups counts, dtype: float64"
      ]
     },
     "execution_count": 269,
     "metadata": {},
     "output_type": "execute_result"
    }
   ],
   "source": [
    "# Sign of sit-ups counts\n",
    "df['sit-ups counts'].describe()"
   ]
  },
  {
   "cell_type": "code",
   "execution_count": null,
   "id": "0de425bb",
   "metadata": {},
   "outputs": [
    {
     "data": {
      "image/png": "[encoded data removed]",
      "text/plain": [
       "<Figure size 2000x500 with 1 Axes>"
      ]
     },
     "metadata": {},
     "output_type": "display_data"
    }
   ],
   "source": [
    "# Let's build a class membership graph relative to the maximum number of squats:\n",
    "show_barplot('sit-ups counts')"
   ]
  },
  {
   "attachments": {},
   "cell_type": "markdown",
   "id": "44b23725",
   "metadata": {},
   "source": [
    "- The value of the maximum number of squats is the lowest in class D\n",
    "- In class A, it has the highest value\n",
    "- There is a tendency to improve the class with an increase in the maximum number of squats"
   ]
  },
  {
   "cell_type": "code",
   "execution_count": null,
   "id": "bcd7b990",
   "metadata": {},
   "outputs": [
    {
     "data": {
      "text/plain": [
       "class\n",
       "A    47.848268\n",
       "B    42.639199\n",
       "C    38.720215\n",
       "D    29.881338\n",
       "Name: sit-ups counts, dtype: float64"
      ]
     },
     "execution_count": 271,
     "metadata": {},
     "output_type": "execute_result"
    }
   ],
   "source": [
    "# Find out the average value of the maximum number of squats in each class:\n",
    "df.groupby('class')['sit-ups counts'].mean()"
   ]
  },
  {
   "cell_type": "code",
   "execution_count": null,
   "id": "871ee78d",
   "metadata": {},
   "outputs": [
    {
     "data": {
      "text/plain": [
       "count    13393.000000\n",
       "mean       190.129627\n",
       "std         39.868000\n",
       "min          0.000000\n",
       "25%        162.000000\n",
       "50%        193.000000\n",
       "75%        221.000000\n",
       "max        303.000000\n",
       "Name: broad jump_cm, dtype: float64"
      ]
     },
     "execution_count": 272,
     "metadata": {},
     "output_type": "execute_result"
    }
   ],
   "source": [
    "# Sign of broad jump_cm\n",
    "df['broad jump_cm'].describe()"
   ]
  },
  {
   "cell_type": "code",
   "execution_count": null,
   "id": "c65a62bc",
   "metadata": {},
   "outputs": [
    {
     "data": {
      "image/png": "[encoded data removed]",
      "text/plain": [
       "<Figure size 2000x500 with 1 Axes>"
      ]
     },
     "metadata": {},
     "output_type": "display_data"
    }
   ],
   "source": [
    "# Let's build a class membership graph relative to the maximum jump length:\n",
    "show_barplot('broad jump_cm')"
   ]
  },
  {
   "attachments": {},
   "cell_type": "markdown",
   "id": "d705fec3",
   "metadata": {},
   "source": [
    "- The value of the maximum jump length is the lowest in class D\n",
    "- In class A, it has the highest value\n",
    "- There is a tendency to improve the class with an increase in the maximum length of the jump"
   ]
  },
  {
   "cell_type": "code",
   "execution_count": null,
   "id": "13a37cd3",
   "metadata": {},
   "outputs": [
    {
     "data": {
      "text/plain": [
       "class\n",
       "A    202.744026\n",
       "B    195.332566\n",
       "C    188.627949\n",
       "D    173.820842\n",
       "Name: broad jump_cm, dtype: float64"
      ]
     },
     "execution_count": 274,
     "metadata": {},
     "output_type": "execute_result"
    }
   ],
   "source": [
    "# Let's find out the average value of the maximum jump length in each class:\n",
    "df.groupby('class')['broad jump_cm'].mean()"
   ]
  },
  {
   "attachments": {},
   "cell_type": "markdown",
   "id": "2fc3cabc",
   "metadata": {},
   "source": [
    "### Feature Engineering\n",
    "Let's find out the average value of the maximum jump length in each class:"
   ]
  },
  {
   "cell_type": "code",
   "execution_count": null,
   "id": "11b5071a",
   "metadata": {},
   "outputs": [
    {
     "data": {
      "text/html": [
       "<div>\n",
       "<style scoped>\n",
       "    .dataframe tbody tr th:only-of-type {\n",
       "        vertical-align: middle;\n",
       "    }\n",
       "\n",
       "    .dataframe tbody tr th {\n",
       "        vertical-align: top;\n",
       "    }\n",
       "\n",
       "    .dataframe thead th {\n",
       "        text-align: right;\n",
       "    }\n",
       "</style>\n",
       "<table border=\"1\" class=\"dataframe\">\n",
       "  <thead>\n",
       "    <tr style=\"text-align: right;\">\n",
       "      <th></th>\n",
       "      <th></th>\n",
       "      <th>class</th>\n",
       "    </tr>\n",
       "    <tr>\n",
       "      <th>age_category</th>\n",
       "      <th>class</th>\n",
       "      <th></th>\n",
       "    </tr>\n",
       "  </thead>\n",
       "  <tbody>\n",
       "    <tr>\n",
       "      <th rowspan=\"4\" valign=\"top\">(20.999, 25.0]</th>\n",
       "      <th>A</th>\n",
       "      <td>922</td>\n",
       "    </tr>\n",
       "    <tr>\n",
       "      <th>B</th>\n",
       "      <td>863</td>\n",
       "    </tr>\n",
       "    <tr>\n",
       "      <th>C</th>\n",
       "      <td>990</td>\n",
       "    </tr>\n",
       "    <tr>\n",
       "      <th>D</th>\n",
       "      <td>907</td>\n",
       "    </tr>\n",
       "    <tr>\n",
       "      <th rowspan=\"4\" valign=\"top\">(25.0, 32.0]</th>\n",
       "      <th>A</th>\n",
       "      <td>978</td>\n",
       "    </tr>\n",
       "    <tr>\n",
       "      <th>B</th>\n",
       "      <td>818</td>\n",
       "    </tr>\n",
       "    <tr>\n",
       "      <th>C</th>\n",
       "      <td>707</td>\n",
       "    </tr>\n",
       "    <tr>\n",
       "      <th>D</th>\n",
       "      <td>593</td>\n",
       "    </tr>\n",
       "    <tr>\n",
       "      <th rowspan=\"4\" valign=\"top\">(32.0, 48.0]</th>\n",
       "      <th>A</th>\n",
       "      <td>785</td>\n",
       "    </tr>\n",
       "    <tr>\n",
       "      <th>B</th>\n",
       "      <td>825</td>\n",
       "    </tr>\n",
       "    <tr>\n",
       "      <th>C</th>\n",
       "      <td>836</td>\n",
       "    </tr>\n",
       "    <tr>\n",
       "      <th>D</th>\n",
       "      <td>932</td>\n",
       "    </tr>\n",
       "    <tr>\n",
       "      <th rowspan=\"4\" valign=\"top\">(48.0, 64.0]</th>\n",
       "      <th>A</th>\n",
       "      <td>663</td>\n",
       "    </tr>\n",
       "    <tr>\n",
       "      <th>B</th>\n",
       "      <td>841</td>\n",
       "    </tr>\n",
       "    <tr>\n",
       "      <th>C</th>\n",
       "      <td>816</td>\n",
       "    </tr>\n",
       "    <tr>\n",
       "      <th>D</th>\n",
       "      <td>917</td>\n",
       "    </tr>\n",
       "  </tbody>\n",
       "</table>\n",
       "</div>"
      ],
      "text/plain": [
       "                      class\n",
       "age_category   class       \n",
       "(20.999, 25.0] A        922\n",
       "               B        863\n",
       "               C        990\n",
       "               D        907\n",
       "(25.0, 32.0]   A        978\n",
       "               B        818\n",
       "               C        707\n",
       "               D        593\n",
       "(32.0, 48.0]   A        785\n",
       "               B        825\n",
       "               C        836\n",
       "               D        932\n",
       "(48.0, 64.0]   A        663\n",
       "               B        841\n",
       "               C        816\n",
       "               D        917"
      ]
     },
     "execution_count": 275,
     "metadata": {},
     "output_type": "execute_result"
    }
   ],
   "source": [
    "# New attribute of the age category\n",
    "df['age_category'] = pd.qcut(df['age'], 4)\n",
    "df.groupby(['age_category', 'class'])['class'].count().to_frame()"
   ]
  },
  {
   "cell_type": "code",
   "execution_count": null,
   "id": "7fdbbdd9",
   "metadata": {},
   "outputs": [],
   "source": [
    "df['age_category'] = 0\n",
    "df.loc[df['age'] <= 25.0, 'age_category'] = 0\n",
    "df.loc[(df['age'] > 25.0) & (df['age'] <= 32.0), 'age_category'] = 1\n",
    "df.loc[(df['age'] > 32.0) & (df['age'] <= 48.0), 'age_category'] = 2\n",
    "df.loc[df['age'] > 48.0, 'age_category'] = 3"
   ]
  },
  {
   "cell_type": "code",
   "execution_count": null,
   "id": "8b065c59",
   "metadata": {},
   "outputs": [
    {
     "data": {
      "text/html": [
       "<div>\n",
       "<style scoped>\n",
       "    .dataframe tbody tr th:only-of-type {\n",
       "        vertical-align: middle;\n",
       "    }\n",
       "\n",
       "    .dataframe tbody tr th {\n",
       "        vertical-align: top;\n",
       "    }\n",
       "\n",
       "    .dataframe thead th {\n",
       "        text-align: right;\n",
       "    }\n",
       "</style>\n",
       "<table border=\"1\" class=\"dataframe\">\n",
       "  <thead>\n",
       "    <tr style=\"text-align: right;\">\n",
       "      <th></th>\n",
       "      <th></th>\n",
       "      <th>class</th>\n",
       "    </tr>\n",
       "    <tr>\n",
       "      <th>height_category</th>\n",
       "      <th>class</th>\n",
       "      <th></th>\n",
       "    </tr>\n",
       "  </thead>\n",
       "  <tbody>\n",
       "    <tr>\n",
       "      <th rowspan=\"4\" valign=\"top\">(124.999, 162.4]</th>\n",
       "      <th>A</th>\n",
       "      <td>908</td>\n",
       "    </tr>\n",
       "    <tr>\n",
       "      <th>B</th>\n",
       "      <td>795</td>\n",
       "    </tr>\n",
       "    <tr>\n",
       "      <th>C</th>\n",
       "      <td>775</td>\n",
       "    </tr>\n",
       "    <tr>\n",
       "      <th>D</th>\n",
       "      <td>887</td>\n",
       "    </tr>\n",
       "    <tr>\n",
       "      <th rowspan=\"4\" valign=\"top\">(162.4, 169.2]</th>\n",
       "      <th>A</th>\n",
       "      <td>976</td>\n",
       "    </tr>\n",
       "    <tr>\n",
       "      <th>B</th>\n",
       "      <td>879</td>\n",
       "    </tr>\n",
       "    <tr>\n",
       "      <th>C</th>\n",
       "      <td>776</td>\n",
       "    </tr>\n",
       "    <tr>\n",
       "      <th>D</th>\n",
       "      <td>722</td>\n",
       "    </tr>\n",
       "    <tr>\n",
       "      <th rowspan=\"4\" valign=\"top\">(169.2, 174.8]</th>\n",
       "      <th>A</th>\n",
       "      <td>765</td>\n",
       "    </tr>\n",
       "    <tr>\n",
       "      <th>B</th>\n",
       "      <td>893</td>\n",
       "    </tr>\n",
       "    <tr>\n",
       "      <th>C</th>\n",
       "      <td>885</td>\n",
       "    </tr>\n",
       "    <tr>\n",
       "      <th>D</th>\n",
       "      <td>825</td>\n",
       "    </tr>\n",
       "    <tr>\n",
       "      <th rowspan=\"4\" valign=\"top\">(174.8, 193.8]</th>\n",
       "      <th>A</th>\n",
       "      <td>699</td>\n",
       "    </tr>\n",
       "    <tr>\n",
       "      <th>B</th>\n",
       "      <td>780</td>\n",
       "    </tr>\n",
       "    <tr>\n",
       "      <th>C</th>\n",
       "      <td>913</td>\n",
       "    </tr>\n",
       "    <tr>\n",
       "      <th>D</th>\n",
       "      <td>915</td>\n",
       "    </tr>\n",
       "  </tbody>\n",
       "</table>\n",
       "</div>"
      ],
      "text/plain": [
       "                        class\n",
       "height_category  class       \n",
       "(124.999, 162.4] A        908\n",
       "                 B        795\n",
       "                 C        775\n",
       "                 D        887\n",
       "(162.4, 169.2]   A        976\n",
       "                 B        879\n",
       "                 C        776\n",
       "                 D        722\n",
       "(169.2, 174.8]   A        765\n",
       "                 B        893\n",
       "                 C        885\n",
       "                 D        825\n",
       "(174.8, 193.8]   A        699\n",
       "                 B        780\n",
       "                 C        913\n",
       "                 D        915"
      ]
     },
     "execution_count": 277,
     "metadata": {},
     "output_type": "execute_result"
    }
   ],
   "source": [
    "# New category feature height_cm\n",
    "df['height_category'] = pd.qcut(df['height_cm'], 4)\n",
    "df.groupby(['height_category', 'class'])['class'].count().to_frame()"
   ]
  },
  {
   "cell_type": "code",
   "execution_count": null,
   "id": "03d7b12d",
   "metadata": {},
   "outputs": [],
   "source": [
    "df['height_category'] = 0\n",
    "df.loc[df['height_cm'] <= 162.4, 'height_category'] = 0\n",
    "df.loc[(df['height_cm'] > 162.4) & (df['height_cm'] <= 169.2), 'height_category'] = 1\n",
    "df.loc[(df['height_cm'] > 169.2) & (df['height_cm'] <= 174.8), 'height_category'] = 2\n",
    "df.loc[df['height_cm'] > 174.8, 'height_category'] = 3"
   ]
  },
  {
   "cell_type": "code",
   "execution_count": null,
   "id": "bdd3444f",
   "metadata": {},
   "outputs": [
    {
     "data": {
      "text/html": [
       "<div>\n",
       "<style scoped>\n",
       "    .dataframe tbody tr th:only-of-type {\n",
       "        vertical-align: middle;\n",
       "    }\n",
       "\n",
       "    .dataframe tbody tr th {\n",
       "        vertical-align: top;\n",
       "    }\n",
       "\n",
       "    .dataframe thead th {\n",
       "        text-align: right;\n",
       "    }\n",
       "</style>\n",
       "<table border=\"1\" class=\"dataframe\">\n",
       "  <thead>\n",
       "    <tr style=\"text-align: right;\">\n",
       "      <th></th>\n",
       "      <th></th>\n",
       "      <th>class</th>\n",
       "    </tr>\n",
       "    <tr>\n",
       "      <th>weight_category</th>\n",
       "      <th>class</th>\n",
       "      <th></th>\n",
       "    </tr>\n",
       "  </thead>\n",
       "  <tbody>\n",
       "    <tr>\n",
       "      <th rowspan=\"4\" valign=\"top\">(26.299, 58.2]</th>\n",
       "      <th>A</th>\n",
       "      <td>1113</td>\n",
       "    </tr>\n",
       "    <tr>\n",
       "      <th>B</th>\n",
       "      <td>838</td>\n",
       "    </tr>\n",
       "    <tr>\n",
       "      <th>C</th>\n",
       "      <td>831</td>\n",
       "    </tr>\n",
       "    <tr>\n",
       "      <th>D</th>\n",
       "      <td>598</td>\n",
       "    </tr>\n",
       "    <tr>\n",
       "      <th rowspan=\"4\" valign=\"top\">(58.2, 67.4]</th>\n",
       "      <th>A</th>\n",
       "      <td>874</td>\n",
       "    </tr>\n",
       "    <tr>\n",
       "      <th>B</th>\n",
       "      <td>873</td>\n",
       "    </tr>\n",
       "    <tr>\n",
       "      <th>C</th>\n",
       "      <td>866</td>\n",
       "    </tr>\n",
       "    <tr>\n",
       "      <th>D</th>\n",
       "      <td>705</td>\n",
       "    </tr>\n",
       "    <tr>\n",
       "      <th rowspan=\"4\" valign=\"top\">(67.4, 75.3]</th>\n",
       "      <th>A</th>\n",
       "      <td>813</td>\n",
       "    </tr>\n",
       "    <tr>\n",
       "      <th>B</th>\n",
       "      <td>926</td>\n",
       "    </tr>\n",
       "    <tr>\n",
       "      <th>C</th>\n",
       "      <td>890</td>\n",
       "    </tr>\n",
       "    <tr>\n",
       "      <th>D</th>\n",
       "      <td>720</td>\n",
       "    </tr>\n",
       "    <tr>\n",
       "      <th rowspan=\"4\" valign=\"top\">(75.3, 138.1]</th>\n",
       "      <th>A</th>\n",
       "      <td>548</td>\n",
       "    </tr>\n",
       "    <tr>\n",
       "      <th>B</th>\n",
       "      <td>710</td>\n",
       "    </tr>\n",
       "    <tr>\n",
       "      <th>C</th>\n",
       "      <td>762</td>\n",
       "    </tr>\n",
       "    <tr>\n",
       "      <th>D</th>\n",
       "      <td>1326</td>\n",
       "    </tr>\n",
       "  </tbody>\n",
       "</table>\n",
       "</div>"
      ],
      "text/plain": [
       "                       class\n",
       "weight_category class       \n",
       "(26.299, 58.2]  A       1113\n",
       "                B        838\n",
       "                C        831\n",
       "                D        598\n",
       "(58.2, 67.4]    A        874\n",
       "                B        873\n",
       "                C        866\n",
       "                D        705\n",
       "(67.4, 75.3]    A        813\n",
       "                B        926\n",
       "                C        890\n",
       "                D        720\n",
       "(75.3, 138.1]   A        548\n",
       "                B        710\n",
       "                C        762\n",
       "                D       1326"
      ]
     },
     "execution_count": 279,
     "metadata": {},
     "output_type": "execute_result"
    }
   ],
   "source": [
    "# New category attribute weight_kg\n",
    "df['weight_category'] = pd.qcut(df['weight_kg'], 4)\n",
    "df.groupby(['weight_category', 'class'])['class'].count().to_frame()"
   ]
  },
  {
   "cell_type": "code",
   "execution_count": null,
   "id": "efd05f66",
   "metadata": {},
   "outputs": [],
   "source": [
    "df['weight_category'] = 0\n",
    "df.loc[df['weight_kg'] <= 162.4, 'weight_category'] = 0\n",
    "df.loc[(df['weight_kg'] > 162.4) & (df['weight_kg'] <= 169.2), 'weight_category'] = 1\n",
    "df.loc[(df['weight_kg'] > 169.2) & (df['weight_kg'] <= 174.8), 'weight_category'] = 2\n",
    "df.loc[df['weight_kg'] > 174.8, 'weight_category'] = 3"
   ]
  },
  {
   "cell_type": "code",
   "execution_count": null,
   "id": "303359e0",
   "metadata": {},
   "outputs": [
    {
     "data": {
      "text/html": [
       "<div>\n",
       "<style scoped>\n",
       "    .dataframe tbody tr th:only-of-type {\n",
       "        vertical-align: middle;\n",
       "    }\n",
       "\n",
       "    .dataframe tbody tr th {\n",
       "        vertical-align: top;\n",
       "    }\n",
       "\n",
       "    .dataframe thead th {\n",
       "        text-align: right;\n",
       "    }\n",
       "</style>\n",
       "<table border=\"1\" class=\"dataframe\">\n",
       "  <thead>\n",
       "    <tr style=\"text-align: right;\">\n",
       "      <th></th>\n",
       "      <th></th>\n",
       "      <th>class</th>\n",
       "    </tr>\n",
       "    <tr>\n",
       "      <th>bodyfat_category</th>\n",
       "      <th>class</th>\n",
       "      <th></th>\n",
       "    </tr>\n",
       "  </thead>\n",
       "  <tbody>\n",
       "    <tr>\n",
       "      <th rowspan=\"4\" valign=\"top\">(2.999, 18.0]</th>\n",
       "      <th>A</th>\n",
       "      <td>1257</td>\n",
       "    </tr>\n",
       "    <tr>\n",
       "      <th>B</th>\n",
       "      <td>993</td>\n",
       "    </tr>\n",
       "    <tr>\n",
       "      <th>C</th>\n",
       "      <td>768</td>\n",
       "    </tr>\n",
       "    <tr>\n",
       "      <th>D</th>\n",
       "      <td>348</td>\n",
       "    </tr>\n",
       "    <tr>\n",
       "      <th rowspan=\"4\" valign=\"top\">(18.0, 22.8]</th>\n",
       "      <th>A</th>\n",
       "      <td>914</td>\n",
       "    </tr>\n",
       "    <tr>\n",
       "      <th>B</th>\n",
       "      <td>911</td>\n",
       "    </tr>\n",
       "    <tr>\n",
       "      <th>C</th>\n",
       "      <td>1072</td>\n",
       "    </tr>\n",
       "    <tr>\n",
       "      <th>D</th>\n",
       "      <td>491</td>\n",
       "    </tr>\n",
       "    <tr>\n",
       "      <th rowspan=\"4\" valign=\"top\">(22.8, 28.0]</th>\n",
       "      <th>A</th>\n",
       "      <td>729</td>\n",
       "    </tr>\n",
       "    <tr>\n",
       "      <th>B</th>\n",
       "      <td>805</td>\n",
       "    </tr>\n",
       "    <tr>\n",
       "      <th>C</th>\n",
       "      <td>831</td>\n",
       "    </tr>\n",
       "    <tr>\n",
       "      <th>D</th>\n",
       "      <td>944</td>\n",
       "    </tr>\n",
       "    <tr>\n",
       "      <th rowspan=\"4\" valign=\"top\">(28.0, 78.4]</th>\n",
       "      <th>A</th>\n",
       "      <td>448</td>\n",
       "    </tr>\n",
       "    <tr>\n",
       "      <th>B</th>\n",
       "      <td>638</td>\n",
       "    </tr>\n",
       "    <tr>\n",
       "      <th>C</th>\n",
       "      <td>678</td>\n",
       "    </tr>\n",
       "    <tr>\n",
       "      <th>D</th>\n",
       "      <td>1566</td>\n",
       "    </tr>\n",
       "  </tbody>\n",
       "</table>\n",
       "</div>"
      ],
      "text/plain": [
       "                        class\n",
       "bodyfat_category class       \n",
       "(2.999, 18.0]    A       1257\n",
       "                 B        993\n",
       "                 C        768\n",
       "                 D        348\n",
       "(18.0, 22.8]     A        914\n",
       "                 B        911\n",
       "                 C       1072\n",
       "                 D        491\n",
       "(22.8, 28.0]     A        729\n",
       "                 B        805\n",
       "                 C        831\n",
       "                 D        944\n",
       "(28.0, 78.4]     A        448\n",
       "                 B        638\n",
       "                 C        678\n",
       "                 D       1566"
      ]
     },
     "execution_count": 281,
     "metadata": {},
     "output_type": "execute_result"
    }
   ],
   "source": [
    "# New category feature body fat_%\n",
    "df['bodyfat_category'] = pd.qcut(df['body fat_%'], 4)\n",
    "df.groupby(['bodyfat_category', 'class'])['class'].count().to_frame()"
   ]
  },
  {
   "cell_type": "code",
   "execution_count": null,
   "id": "3cdbb882",
   "metadata": {},
   "outputs": [],
   "source": [
    "df['bodyfat_category'] = 0\n",
    "df.loc[df['body fat_%'] <= 18.0, 'bodyfat_category'] = 0\n",
    "df.loc[(df['body fat_%'] > 18.0) & (df['body fat_%'] <= 22.8), 'bodyfat_category'] = 1\n",
    "df.loc[(df['body fat_%'] > 22.8) & (df['body fat_%'] <= 28.0), 'bodyfat_category'] = 2\n",
    "df.loc[df['body fat_%'] > 28.0, 'bodyfat_category'] = 3"
   ]
  },
  {
   "cell_type": "code",
   "execution_count": null,
   "id": "44a93e4e",
   "metadata": {},
   "outputs": [
    {
     "data": {
      "text/html": [
       "<div>\n",
       "<style scoped>\n",
       "    .dataframe tbody tr th:only-of-type {\n",
       "        vertical-align: middle;\n",
       "    }\n",
       "\n",
       "    .dataframe tbody tr th {\n",
       "        vertical-align: top;\n",
       "    }\n",
       "\n",
       "    .dataframe thead th {\n",
       "        text-align: right;\n",
       "    }\n",
       "</style>\n",
       "<table border=\"1\" class=\"dataframe\">\n",
       "  <thead>\n",
       "    <tr style=\"text-align: right;\">\n",
       "      <th></th>\n",
       "      <th></th>\n",
       "      <th>class</th>\n",
       "    </tr>\n",
       "    <tr>\n",
       "      <th>dialistic_category</th>\n",
       "      <th>class</th>\n",
       "      <th></th>\n",
       "    </tr>\n",
       "  </thead>\n",
       "  <tbody>\n",
       "    <tr>\n",
       "      <th rowspan=\"4\" valign=\"top\">(-0.001, 71.0]</th>\n",
       "      <th>A</th>\n",
       "      <td>931</td>\n",
       "    </tr>\n",
       "    <tr>\n",
       "      <th>B</th>\n",
       "      <td>859</td>\n",
       "    </tr>\n",
       "    <tr>\n",
       "      <th>C</th>\n",
       "      <td>864</td>\n",
       "    </tr>\n",
       "    <tr>\n",
       "      <th>D</th>\n",
       "      <td>754</td>\n",
       "    </tr>\n",
       "    <tr>\n",
       "      <th rowspan=\"4\" valign=\"top\">(71.0, 79.0]</th>\n",
       "      <th>A</th>\n",
       "      <td>923</td>\n",
       "    </tr>\n",
       "    <tr>\n",
       "      <th>B</th>\n",
       "      <td>889</td>\n",
       "    </tr>\n",
       "    <tr>\n",
       "      <th>C</th>\n",
       "      <td>873</td>\n",
       "    </tr>\n",
       "    <tr>\n",
       "      <th>D</th>\n",
       "      <td>795</td>\n",
       "    </tr>\n",
       "    <tr>\n",
       "      <th rowspan=\"4\" valign=\"top\">(79.0, 86.0]</th>\n",
       "      <th>A</th>\n",
       "      <td>754</td>\n",
       "    </tr>\n",
       "    <tr>\n",
       "      <th>B</th>\n",
       "      <td>801</td>\n",
       "    </tr>\n",
       "    <tr>\n",
       "      <th>C</th>\n",
       "      <td>817</td>\n",
       "    </tr>\n",
       "    <tr>\n",
       "      <th>D</th>\n",
       "      <td>806</td>\n",
       "    </tr>\n",
       "    <tr>\n",
       "      <th rowspan=\"4\" valign=\"top\">(86.0, 156.2]</th>\n",
       "      <th>A</th>\n",
       "      <td>740</td>\n",
       "    </tr>\n",
       "    <tr>\n",
       "      <th>B</th>\n",
       "      <td>798</td>\n",
       "    </tr>\n",
       "    <tr>\n",
       "      <th>C</th>\n",
       "      <td>795</td>\n",
       "    </tr>\n",
       "    <tr>\n",
       "      <th>D</th>\n",
       "      <td>994</td>\n",
       "    </tr>\n",
       "  </tbody>\n",
       "</table>\n",
       "</div>"
      ],
      "text/plain": [
       "                          class\n",
       "dialistic_category class       \n",
       "(-0.001, 71.0]     A        931\n",
       "                   B        859\n",
       "                   C        864\n",
       "                   D        754\n",
       "(71.0, 79.0]       A        923\n",
       "                   B        889\n",
       "                   C        873\n",
       "                   D        795\n",
       "(79.0, 86.0]       A        754\n",
       "                   B        801\n",
       "                   C        817\n",
       "                   D        806\n",
       "(86.0, 156.2]      A        740\n",
       "                   B        798\n",
       "                   C        795\n",
       "                   D        994"
      ]
     },
     "execution_count": 283,
     "metadata": {},
     "output_type": "execute_result"
    }
   ],
   "source": [
    "# New attribute of diastolic category\n",
    "df['dialistic_category'] = pd.qcut(df['diastolic'], 4)\n",
    "df.groupby(['dialistic_category', 'class'])['class'].count().to_frame()"
   ]
  },
  {
   "cell_type": "code",
   "execution_count": null,
   "id": "eb7f16eb",
   "metadata": {},
   "outputs": [],
   "source": [
    "df['dialistic_category'] = 0\n",
    "df.loc[df['diastolic'] <= 71.0, 'dialistic_category'] = 0\n",
    "df.loc[(df['diastolic'] > 71.0) & (df['diastolic'] <= 79.0), 'dialistic_category'] = 1\n",
    "df.loc[(df['diastolic'] > 79.0) & (df['diastolic'] <= 86.0), 'dialistic_category'] = 2\n",
    "df.loc[df['diastolic'] > 86.0, 'dialistic_category'] = 3"
   ]
  },
  {
   "cell_type": "code",
   "execution_count": null,
   "id": "2c0c5cf7",
   "metadata": {},
   "outputs": [
    {
     "data": {
      "text/html": [
       "<div>\n",
       "<style scoped>\n",
       "    .dataframe tbody tr th:only-of-type {\n",
       "        vertical-align: middle;\n",
       "    }\n",
       "\n",
       "    .dataframe tbody tr th {\n",
       "        vertical-align: top;\n",
       "    }\n",
       "\n",
       "    .dataframe thead th {\n",
       "        text-align: right;\n",
       "    }\n",
       "</style>\n",
       "<table border=\"1\" class=\"dataframe\">\n",
       "  <thead>\n",
       "    <tr style=\"text-align: right;\">\n",
       "      <th></th>\n",
       "      <th></th>\n",
       "      <th>class</th>\n",
       "    </tr>\n",
       "    <tr>\n",
       "      <th>systolic_category</th>\n",
       "      <th>class</th>\n",
       "      <th></th>\n",
       "    </tr>\n",
       "  </thead>\n",
       "  <tbody>\n",
       "    <tr>\n",
       "      <th rowspan=\"4\" valign=\"top\">(-0.001, 120.0]</th>\n",
       "      <th>A</th>\n",
       "      <td>1014</td>\n",
       "    </tr>\n",
       "    <tr>\n",
       "      <th>B</th>\n",
       "      <td>865</td>\n",
       "    </tr>\n",
       "    <tr>\n",
       "      <th>C</th>\n",
       "      <td>957</td>\n",
       "    </tr>\n",
       "    <tr>\n",
       "      <th>D</th>\n",
       "      <td>891</td>\n",
       "    </tr>\n",
       "    <tr>\n",
       "      <th rowspan=\"4\" valign=\"top\">(120.0, 130.0]</th>\n",
       "      <th>A</th>\n",
       "      <td>844</td>\n",
       "    </tr>\n",
       "    <tr>\n",
       "      <th>B</th>\n",
       "      <td>870</td>\n",
       "    </tr>\n",
       "    <tr>\n",
       "      <th>C</th>\n",
       "      <td>819</td>\n",
       "    </tr>\n",
       "    <tr>\n",
       "      <th>D</th>\n",
       "      <td>715</td>\n",
       "    </tr>\n",
       "    <tr>\n",
       "      <th rowspan=\"4\" valign=\"top\">(130.0, 141.0]</th>\n",
       "      <th>A</th>\n",
       "      <td>775</td>\n",
       "    </tr>\n",
       "    <tr>\n",
       "      <th>B</th>\n",
       "      <td>787</td>\n",
       "    </tr>\n",
       "    <tr>\n",
       "      <th>C</th>\n",
       "      <td>811</td>\n",
       "    </tr>\n",
       "    <tr>\n",
       "      <th>D</th>\n",
       "      <td>824</td>\n",
       "    </tr>\n",
       "    <tr>\n",
       "      <th rowspan=\"4\" valign=\"top\">(141.0, 201.0]</th>\n",
       "      <th>A</th>\n",
       "      <td>715</td>\n",
       "    </tr>\n",
       "    <tr>\n",
       "      <th>B</th>\n",
       "      <td>825</td>\n",
       "    </tr>\n",
       "    <tr>\n",
       "      <th>C</th>\n",
       "      <td>762</td>\n",
       "    </tr>\n",
       "    <tr>\n",
       "      <th>D</th>\n",
       "      <td>919</td>\n",
       "    </tr>\n",
       "  </tbody>\n",
       "</table>\n",
       "</div>"
      ],
      "text/plain": [
       "                         class\n",
       "systolic_category class       \n",
       "(-0.001, 120.0]   A       1014\n",
       "                  B        865\n",
       "                  C        957\n",
       "                  D        891\n",
       "(120.0, 130.0]    A        844\n",
       "                  B        870\n",
       "                  C        819\n",
       "                  D        715\n",
       "(130.0, 141.0]    A        775\n",
       "                  B        787\n",
       "                  C        811\n",
       "                  D        824\n",
       "(141.0, 201.0]    A        715\n",
       "                  B        825\n",
       "                  C        762\n",
       "                  D        919"
      ]
     },
     "execution_count": 285,
     "metadata": {},
     "output_type": "execute_result"
    }
   ],
   "source": [
    "# New attribute of the systolic category\n",
    "\n",
    "df['systolic_category'] = pd.qcut(df['systolic'], 4)\n",
    "df.groupby(['systolic_category', 'class'])['class'].count().to_frame()"
   ]
  },
  {
   "cell_type": "code",
   "execution_count": null,
   "id": "4316e7b1",
   "metadata": {},
   "outputs": [],
   "source": [
    "df['systolic_category'] = 0\n",
    "df.loc[df['systolic'] <= 120.0, 'systolic_category'] = 0\n",
    "df.loc[(df['systolic'] > 120.0) & (df['systolic'] <= 130.0), 'systolic_category'] = 1\n",
    "df.loc[(df['systolic'] > 130.0) & (df['systolic'] <= 141.0), 'systolic_category'] = 2\n",
    "df.loc[df['systolic'] > 141.0, 'systolic_category'] = 3"
   ]
  },
  {
   "cell_type": "code",
   "execution_count": null,
   "id": "44f52c1e",
   "metadata": {},
   "outputs": [
    {
     "data": {
      "text/html": [
       "<div>\n",
       "<style scoped>\n",
       "    .dataframe tbody tr th:only-of-type {\n",
       "        vertical-align: middle;\n",
       "    }\n",
       "\n",
       "    .dataframe tbody tr th {\n",
       "        vertical-align: top;\n",
       "    }\n",
       "\n",
       "    .dataframe thead th {\n",
       "        text-align: right;\n",
       "    }\n",
       "</style>\n",
       "<table border=\"1\" class=\"dataframe\">\n",
       "  <thead>\n",
       "    <tr style=\"text-align: right;\">\n",
       "      <th></th>\n",
       "      <th></th>\n",
       "      <th>class</th>\n",
       "    </tr>\n",
       "    <tr>\n",
       "      <th>gripforce_category</th>\n",
       "      <th>class</th>\n",
       "      <th></th>\n",
       "    </tr>\n",
       "  </thead>\n",
       "  <tbody>\n",
       "    <tr>\n",
       "      <th rowspan=\"4\" valign=\"top\">(-0.001, 27.5]</th>\n",
       "      <th>A</th>\n",
       "      <td>688</td>\n",
       "    </tr>\n",
       "    <tr>\n",
       "      <th>B</th>\n",
       "      <td>774</td>\n",
       "    </tr>\n",
       "    <tr>\n",
       "      <th>C</th>\n",
       "      <td>873</td>\n",
       "    </tr>\n",
       "    <tr>\n",
       "      <th>D</th>\n",
       "      <td>1028</td>\n",
       "    </tr>\n",
       "    <tr>\n",
       "      <th rowspan=\"4\" valign=\"top\">(27.5, 37.9]</th>\n",
       "      <th>A</th>\n",
       "      <td>925</td>\n",
       "    </tr>\n",
       "    <tr>\n",
       "      <th>B</th>\n",
       "      <td>733</td>\n",
       "    </tr>\n",
       "    <tr>\n",
       "      <th>C</th>\n",
       "      <td>788</td>\n",
       "    </tr>\n",
       "    <tr>\n",
       "      <th>D</th>\n",
       "      <td>908</td>\n",
       "    </tr>\n",
       "    <tr>\n",
       "      <th rowspan=\"4\" valign=\"top\">(37.9, 45.2]</th>\n",
       "      <th>A</th>\n",
       "      <td>623</td>\n",
       "    </tr>\n",
       "    <tr>\n",
       "      <th>B</th>\n",
       "      <td>941</td>\n",
       "    </tr>\n",
       "    <tr>\n",
       "      <th>C</th>\n",
       "      <td>964</td>\n",
       "    </tr>\n",
       "    <tr>\n",
       "      <th>D</th>\n",
       "      <td>840</td>\n",
       "    </tr>\n",
       "    <tr>\n",
       "      <th rowspan=\"4\" valign=\"top\">(45.2, 70.5]</th>\n",
       "      <th>A</th>\n",
       "      <td>1112</td>\n",
       "    </tr>\n",
       "    <tr>\n",
       "      <th>B</th>\n",
       "      <td>899</td>\n",
       "    </tr>\n",
       "    <tr>\n",
       "      <th>C</th>\n",
       "      <td>724</td>\n",
       "    </tr>\n",
       "    <tr>\n",
       "      <th>D</th>\n",
       "      <td>573</td>\n",
       "    </tr>\n",
       "  </tbody>\n",
       "</table>\n",
       "</div>"
      ],
      "text/plain": [
       "                          class\n",
       "gripforce_category class       \n",
       "(-0.001, 27.5]     A        688\n",
       "                   B        774\n",
       "                   C        873\n",
       "                   D       1028\n",
       "(27.5, 37.9]       A        925\n",
       "                   B        733\n",
       "                   C        788\n",
       "                   D        908\n",
       "(37.9, 45.2]       A        623\n",
       "                   B        941\n",
       "                   C        964\n",
       "                   D        840\n",
       "(45.2, 70.5]       A       1112\n",
       "                   B        899\n",
       "                   C        724\n",
       "                   D        573"
      ]
     },
     "execution_count": 287,
     "metadata": {},
     "output_type": "execute_result"
    }
   ],
   "source": [
    "# New attribute gripForce\n",
    "df['gripforce_category'] = pd.qcut(df['gripForce'], 4)\n",
    "df.groupby(['gripforce_category', 'class'])['class'].count().to_frame()"
   ]
  },
  {
   "cell_type": "code",
   "execution_count": null,
   "id": "ac066781",
   "metadata": {},
   "outputs": [],
   "source": [
    "df['gripforce_category'] = 0\n",
    "df.loc[df['gripForce'] <= 120.0, 'gripforce_category'] = 0\n",
    "df.loc[(df['gripForce'] > 120.0) & (df['gripForce'] <= 130.0), 'gripforce_category'] = 1\n",
    "df.loc[(df['gripForce'] > 130.0) & (df['gripForce'] <= 141.0), 'gripforce_category'] = 2\n",
    "df.loc[df['gripForce'] > 141.0, 'gripforce_category'] = 3"
   ]
  },
  {
   "cell_type": "code",
   "execution_count": null,
   "id": "5178c853",
   "metadata": {},
   "outputs": [
    {
     "data": {
      "text/html": [
       "<div>\n",
       "<style scoped>\n",
       "    .dataframe tbody tr th:only-of-type {\n",
       "        vertical-align: middle;\n",
       "    }\n",
       "\n",
       "    .dataframe tbody tr th {\n",
       "        vertical-align: top;\n",
       "    }\n",
       "\n",
       "    .dataframe thead th {\n",
       "        text-align: right;\n",
       "    }\n",
       "</style>\n",
       "<table border=\"1\" class=\"dataframe\">\n",
       "  <thead>\n",
       "    <tr style=\"text-align: right;\">\n",
       "      <th></th>\n",
       "      <th></th>\n",
       "      <th>class</th>\n",
       "    </tr>\n",
       "    <tr>\n",
       "      <th>sit_bend_category</th>\n",
       "      <th>class</th>\n",
       "      <th></th>\n",
       "    </tr>\n",
       "  </thead>\n",
       "  <tbody>\n",
       "    <tr>\n",
       "      <th rowspan=\"4\" valign=\"top\">(-25.001, 10.9]</th>\n",
       "      <th>A</th>\n",
       "      <td>0</td>\n",
       "    </tr>\n",
       "    <tr>\n",
       "      <th>B</th>\n",
       "      <td>266</td>\n",
       "    </tr>\n",
       "    <tr>\n",
       "      <th>C</th>\n",
       "      <td>1061</td>\n",
       "    </tr>\n",
       "    <tr>\n",
       "      <th>D</th>\n",
       "      <td>2051</td>\n",
       "    </tr>\n",
       "    <tr>\n",
       "      <th rowspan=\"4\" valign=\"top\">(10.9, 16.2]</th>\n",
       "      <th>A</th>\n",
       "      <td>412</td>\n",
       "    </tr>\n",
       "    <tr>\n",
       "      <th>B</th>\n",
       "      <td>1190</td>\n",
       "    </tr>\n",
       "    <tr>\n",
       "      <th>C</th>\n",
       "      <td>1094</td>\n",
       "    </tr>\n",
       "    <tr>\n",
       "      <th>D</th>\n",
       "      <td>661</td>\n",
       "    </tr>\n",
       "    <tr>\n",
       "      <th rowspan=\"4\" valign=\"top\">(16.2, 20.7]</th>\n",
       "      <th>A</th>\n",
       "      <td>1135</td>\n",
       "    </tr>\n",
       "    <tr>\n",
       "      <th>B</th>\n",
       "      <td>1098</td>\n",
       "    </tr>\n",
       "    <tr>\n",
       "      <th>C</th>\n",
       "      <td>686</td>\n",
       "    </tr>\n",
       "    <tr>\n",
       "      <th>D</th>\n",
       "      <td>393</td>\n",
       "    </tr>\n",
       "    <tr>\n",
       "      <th rowspan=\"4\" valign=\"top\">(20.7, 213.0]</th>\n",
       "      <th>A</th>\n",
       "      <td>1801</td>\n",
       "    </tr>\n",
       "    <tr>\n",
       "      <th>B</th>\n",
       "      <td>793</td>\n",
       "    </tr>\n",
       "    <tr>\n",
       "      <th>C</th>\n",
       "      <td>508</td>\n",
       "    </tr>\n",
       "    <tr>\n",
       "      <th>D</th>\n",
       "      <td>244</td>\n",
       "    </tr>\n",
       "  </tbody>\n",
       "</table>\n",
       "</div>"
      ],
      "text/plain": [
       "                         class\n",
       "sit_bend_category class       \n",
       "(-25.001, 10.9]   A          0\n",
       "                  B        266\n",
       "                  C       1061\n",
       "                  D       2051\n",
       "(10.9, 16.2]      A        412\n",
       "                  B       1190\n",
       "                  C       1094\n",
       "                  D        661\n",
       "(16.2, 20.7]      A       1135\n",
       "                  B       1098\n",
       "                  C        686\n",
       "                  D        393\n",
       "(20.7, 213.0]     A       1801\n",
       "                  B        793\n",
       "                  C        508\n",
       "                  D        244"
      ]
     },
     "execution_count": 289,
     "metadata": {},
     "output_type": "execute_result"
    }
   ],
   "source": [
    "# New attribute sit and bend forward_cm\n",
    "df['sit_bend_category'] = pd.qcut(df['sit and bend forward_cm'], 4)\n",
    "df.groupby(['sit_bend_category', 'class'])['class'].count().to_frame()"
   ]
  },
  {
   "cell_type": "code",
   "execution_count": null,
   "id": "1c437fc2",
   "metadata": {},
   "outputs": [],
   "source": [
    "df['sit_bend_category'] = 0\n",
    "df.loc[df['sit and bend forward_cm'] <= 120.0, 'sit_bend_category'] = 0\n",
    "df.loc[(df['sit and bend forward_cm'] > 120.0) & (df['sit and bend forward_cm'] <= 130.0), 'sit_bend_category'] = 1\n",
    "df.loc[(df['sit and bend forward_cm'] > 130.0) & (df['sit and bend forward_cm'] <= 141.0), 'sit_bend_category'] = 2\n",
    "df.loc[df['sit and bend forward_cm'] > 141.0, 'sit_bend_category'] = 3"
   ]
  },
  {
   "cell_type": "code",
   "execution_count": null,
   "id": "1899d1e1",
   "metadata": {},
   "outputs": [
    {
     "data": {
      "text/html": [
       "<div>\n",
       "<style scoped>\n",
       "    .dataframe tbody tr th:only-of-type {\n",
       "        vertical-align: middle;\n",
       "    }\n",
       "\n",
       "    .dataframe tbody tr th {\n",
       "        vertical-align: top;\n",
       "    }\n",
       "\n",
       "    .dataframe thead th {\n",
       "        text-align: right;\n",
       "    }\n",
       "</style>\n",
       "<table border=\"1\" class=\"dataframe\">\n",
       "  <thead>\n",
       "    <tr style=\"text-align: right;\">\n",
       "      <th></th>\n",
       "      <th></th>\n",
       "      <th>class</th>\n",
       "    </tr>\n",
       "    <tr>\n",
       "      <th>sit_ups_category</th>\n",
       "      <th>class</th>\n",
       "      <th></th>\n",
       "    </tr>\n",
       "  </thead>\n",
       "  <tbody>\n",
       "    <tr>\n",
       "      <th rowspan=\"4\" valign=\"top\">(-0.001, 30.0]</th>\n",
       "      <th>A</th>\n",
       "      <td>190</td>\n",
       "    </tr>\n",
       "    <tr>\n",
       "      <th>B</th>\n",
       "      <td>601</td>\n",
       "    </tr>\n",
       "    <tr>\n",
       "      <th>C</th>\n",
       "      <td>913</td>\n",
       "    </tr>\n",
       "    <tr>\n",
       "      <th>D</th>\n",
       "      <td>1681</td>\n",
       "    </tr>\n",
       "    <tr>\n",
       "      <th rowspan=\"4\" valign=\"top\">(30.0, 41.0]</th>\n",
       "      <th>A</th>\n",
       "      <td>757</td>\n",
       "    </tr>\n",
       "    <tr>\n",
       "      <th>B</th>\n",
       "      <td>849</td>\n",
       "    </tr>\n",
       "    <tr>\n",
       "      <th>C</th>\n",
       "      <td>873</td>\n",
       "    </tr>\n",
       "    <tr>\n",
       "      <th>D</th>\n",
       "      <td>866</td>\n",
       "    </tr>\n",
       "    <tr>\n",
       "      <th rowspan=\"4\" valign=\"top\">(41.0, 50.0]</th>\n",
       "      <th>A</th>\n",
       "      <td>903</td>\n",
       "    </tr>\n",
       "    <tr>\n",
       "      <th>B</th>\n",
       "      <td>960</td>\n",
       "    </tr>\n",
       "    <tr>\n",
       "      <th>C</th>\n",
       "      <td>930</td>\n",
       "    </tr>\n",
       "    <tr>\n",
       "      <th>D</th>\n",
       "      <td>528</td>\n",
       "    </tr>\n",
       "    <tr>\n",
       "      <th rowspan=\"4\" valign=\"top\">(50.0, 80.0]</th>\n",
       "      <th>A</th>\n",
       "      <td>1498</td>\n",
       "    </tr>\n",
       "    <tr>\n",
       "      <th>B</th>\n",
       "      <td>937</td>\n",
       "    </tr>\n",
       "    <tr>\n",
       "      <th>C</th>\n",
       "      <td>633</td>\n",
       "    </tr>\n",
       "    <tr>\n",
       "      <th>D</th>\n",
       "      <td>274</td>\n",
       "    </tr>\n",
       "  </tbody>\n",
       "</table>\n",
       "</div>"
      ],
      "text/plain": [
       "                        class\n",
       "sit_ups_category class       \n",
       "(-0.001, 30.0]   A        190\n",
       "                 B        601\n",
       "                 C        913\n",
       "                 D       1681\n",
       "(30.0, 41.0]     A        757\n",
       "                 B        849\n",
       "                 C        873\n",
       "                 D        866\n",
       "(41.0, 50.0]     A        903\n",
       "                 B        960\n",
       "                 C        930\n",
       "                 D        528\n",
       "(50.0, 80.0]     A       1498\n",
       "                 B        937\n",
       "                 C        633\n",
       "                 D        274"
      ]
     },
     "execution_count": 291,
     "metadata": {},
     "output_type": "execute_result"
    }
   ],
   "source": [
    "# New feature of the sit-ups counts category\n",
    "df['sit_ups_category'] = pd.qcut(df['sit-ups counts'], 4)\n",
    "df.groupby(['sit_ups_category', 'class'])['class'].count().to_frame()"
   ]
  },
  {
   "cell_type": "code",
   "execution_count": null,
   "id": "e132eac3",
   "metadata": {},
   "outputs": [],
   "source": [
    "df['sit_ups_category'] = 0\n",
    "df.loc[df['sit-ups counts'] <= 30.0, 'sit_ups_category'] = 0\n",
    "df.loc[(df['sit-ups counts'] > 30.0) & (df['sit-ups counts'] <= 41.0), 'sit_ups_category'] = 1\n",
    "df.loc[(df['sit-ups counts'] > 41.0) & (df['sit-ups counts'] <= 50.0), 'sit_ups_category'] = 2\n",
    "df.loc[df['sit-ups counts'] > 50.0, 'sit_ups_category'] = 3"
   ]
  },
  {
   "cell_type": "code",
   "execution_count": null,
   "id": "2095ce6a",
   "metadata": {},
   "outputs": [
    {
     "data": {
      "text/html": [
       "<div>\n",
       "<style scoped>\n",
       "    .dataframe tbody tr th:only-of-type {\n",
       "        vertical-align: middle;\n",
       "    }\n",
       "\n",
       "    .dataframe tbody tr th {\n",
       "        vertical-align: top;\n",
       "    }\n",
       "\n",
       "    .dataframe thead th {\n",
       "        text-align: right;\n",
       "    }\n",
       "</style>\n",
       "<table border=\"1\" class=\"dataframe\">\n",
       "  <thead>\n",
       "    <tr style=\"text-align: right;\">\n",
       "      <th></th>\n",
       "      <th></th>\n",
       "      <th>class</th>\n",
       "    </tr>\n",
       "    <tr>\n",
       "      <th>jump_broad_category</th>\n",
       "      <th>class</th>\n",
       "      <th></th>\n",
       "    </tr>\n",
       "  </thead>\n",
       "  <tbody>\n",
       "    <tr>\n",
       "      <th rowspan=\"4\" valign=\"top\">(-0.001, 162.0]</th>\n",
       "      <th>A</th>\n",
       "      <td>461</td>\n",
       "    </tr>\n",
       "    <tr>\n",
       "      <th>B</th>\n",
       "      <td>722</td>\n",
       "    </tr>\n",
       "    <tr>\n",
       "      <th>C</th>\n",
       "      <td>922</td>\n",
       "    </tr>\n",
       "    <tr>\n",
       "      <th>D</th>\n",
       "      <td>1265</td>\n",
       "    </tr>\n",
       "    <tr>\n",
       "      <th rowspan=\"4\" valign=\"top\">(162.0, 193.0]</th>\n",
       "      <th>A</th>\n",
       "      <td>1013</td>\n",
       "    </tr>\n",
       "    <tr>\n",
       "      <th>B</th>\n",
       "      <td>798</td>\n",
       "    </tr>\n",
       "    <tr>\n",
       "      <th>C</th>\n",
       "      <td>730</td>\n",
       "    </tr>\n",
       "    <tr>\n",
       "      <th>D</th>\n",
       "      <td>832</td>\n",
       "    </tr>\n",
       "    <tr>\n",
       "      <th rowspan=\"4\" valign=\"top\">(193.0, 221.0]</th>\n",
       "      <th>A</th>\n",
       "      <td>613</td>\n",
       "    </tr>\n",
       "    <tr>\n",
       "      <th>B</th>\n",
       "      <td>893</td>\n",
       "    </tr>\n",
       "    <tr>\n",
       "      <th>C</th>\n",
       "      <td>934</td>\n",
       "    </tr>\n",
       "    <tr>\n",
       "      <th>D</th>\n",
       "      <td>878</td>\n",
       "    </tr>\n",
       "    <tr>\n",
       "      <th rowspan=\"4\" valign=\"top\">(221.0, 303.0]</th>\n",
       "      <th>A</th>\n",
       "      <td>1261</td>\n",
       "    </tr>\n",
       "    <tr>\n",
       "      <th>B</th>\n",
       "      <td>934</td>\n",
       "    </tr>\n",
       "    <tr>\n",
       "      <th>C</th>\n",
       "      <td>763</td>\n",
       "    </tr>\n",
       "    <tr>\n",
       "      <th>D</th>\n",
       "      <td>374</td>\n",
       "    </tr>\n",
       "  </tbody>\n",
       "</table>\n",
       "</div>"
      ],
      "text/plain": [
       "                           class\n",
       "jump_broad_category class       \n",
       "(-0.001, 162.0]     A        461\n",
       "                    B        722\n",
       "                    C        922\n",
       "                    D       1265\n",
       "(162.0, 193.0]      A       1013\n",
       "                    B        798\n",
       "                    C        730\n",
       "                    D        832\n",
       "(193.0, 221.0]      A        613\n",
       "                    B        893\n",
       "                    C        934\n",
       "                    D        878\n",
       "(221.0, 303.0]      A       1261\n",
       "                    B        934\n",
       "                    C        763\n",
       "                    D        374"
      ]
     },
     "execution_count": 293,
     "metadata": {},
     "output_type": "execute_result"
    }
   ],
   "source": [
    "# New category feature broad jump_cm\n",
    "df['jump_broad_category'] = pd.qcut(df['broad jump_cm'], 4)\n",
    "df.groupby(['jump_broad_category', 'class'])['class'].count().to_frame()"
   ]
  },
  {
   "cell_type": "code",
   "execution_count": null,
   "id": "a2f0164f",
   "metadata": {},
   "outputs": [],
   "source": [
    "df['jump_broad_category'] = 0\n",
    "df.loc[df['broad jump_cm'] <= 162.0, 'jump_broad_category'] = 0\n",
    "df.loc[(df['broad jump_cm'] > 162.0) & (df['broad jump_cm'] <= 193.0), 'jump_broad_category'] = 1\n",
    "df.loc[(df['broad jump_cm'] > 193.0) & (df['broad jump_cm'] <= 221.0), 'jump_broad_category'] = 2\n",
    "df.loc[df['broad jump_cm'] > 221.0, 'jump_broad_category'] = 3"
   ]
  },
  {
   "attachments": {},
   "cell_type": "markdown",
   "id": "a9ce6acf",
   "metadata": {},
   "source": [
    "### Encode categorical attributes"
   ]
  },
  {
   "cell_type": "code",
   "execution_count": null,
   "id": "024919d0",
   "metadata": {},
   "outputs": [],
   "source": [
    "from sklearn.preprocessing import OneHotEncoder\n",
    "\n",
    "\n",
    "def encode_categorial(name):\n",
    "    encoder = OneHotEncoder(handle_unknown='ignore')\n",
    "    \n",
    "    df[name]\n",
    "    d = encoder.fit_transform(df[name])\n",
    "    # Feature coding.\n",
    "    encoded_df = pd.DataFrame(d.toarray())\n",
    "    \n",
    "    # List of column names.\n",
    "    column_names = create_column_names(encoded_df, name)\n",
    "    \n",
    "    # Renaming columns.\n",
    "    encoded_df.columns = column_names\n",
    "    \n",
    "    return encoded_df\n",
    "    \n",
    "def create_column_names(encoded_df, prefix):\n",
    "    column_names = [column_names.append(prefix + \"_\" + str(i)) for i in range(0, len(encoded_df.columns))]\n",
    "        \n",
    "    return column_names    "
   ]
  },
  {
   "cell_type": "code",
   "execution_count": null,
   "id": "9e233914",
   "metadata": {},
   "outputs": [
    {
     "data": {
      "text/html": [
       "<div>\n",
       "<style scoped>\n",
       "    .dataframe tbody tr th:only-of-type {\n",
       "        vertical-align: middle;\n",
       "    }\n",
       "\n",
       "    .dataframe tbody tr th {\n",
       "        vertical-align: top;\n",
       "    }\n",
       "\n",
       "    .dataframe thead th {\n",
       "        text-align: right;\n",
       "    }\n",
       "</style>\n",
       "<table border=\"1\" class=\"dataframe\">\n",
       "  <thead>\n",
       "    <tr style=\"text-align: right;\">\n",
       "      <th></th>\n",
       "      <th>age</th>\n",
       "      <th>gender</th>\n",
       "      <th>height_cm</th>\n",
       "      <th>weight_kg</th>\n",
       "      <th>body fat_%</th>\n",
       "      <th>diastolic</th>\n",
       "      <th>systolic</th>\n",
       "      <th>gripForce</th>\n",
       "      <th>sit and bend forward_cm</th>\n",
       "      <th>sit-ups counts</th>\n",
       "      <th>...</th>\n",
       "      <th>dialistic_category_1</th>\n",
       "      <th>dialistic_category_2</th>\n",
       "      <th>dialistic_category_3</th>\n",
       "      <th>gripforce_category_0</th>\n",
       "      <th>sit_bend_category_0</th>\n",
       "      <th>sit_bend_category_1</th>\n",
       "      <th>jump_broad_category_0</th>\n",
       "      <th>jump_broad_category_1</th>\n",
       "      <th>jump_broad_category_2</th>\n",
       "      <th>jump_broad_category_3</th>\n",
       "    </tr>\n",
       "  </thead>\n",
       "  <tbody>\n",
       "    <tr>\n",
       "      <th>0</th>\n",
       "      <td>27.0</td>\n",
       "      <td>M</td>\n",
       "      <td>172.3</td>\n",
       "      <td>75.24</td>\n",
       "      <td>21.3</td>\n",
       "      <td>80.0</td>\n",
       "      <td>130.0</td>\n",
       "      <td>54.9</td>\n",
       "      <td>18.4</td>\n",
       "      <td>60.0</td>\n",
       "      <td>...</td>\n",
       "      <td>0.0</td>\n",
       "      <td>1.0</td>\n",
       "      <td>0.0</td>\n",
       "      <td>1.0</td>\n",
       "      <td>1.0</td>\n",
       "      <td>0.0</td>\n",
       "      <td>0.0</td>\n",
       "      <td>0.0</td>\n",
       "      <td>1.0</td>\n",
       "      <td>0.0</td>\n",
       "    </tr>\n",
       "    <tr>\n",
       "      <th>1</th>\n",
       "      <td>25.0</td>\n",
       "      <td>M</td>\n",
       "      <td>165.0</td>\n",
       "      <td>55.80</td>\n",
       "      <td>15.7</td>\n",
       "      <td>77.0</td>\n",
       "      <td>126.0</td>\n",
       "      <td>36.4</td>\n",
       "      <td>16.3</td>\n",
       "      <td>53.0</td>\n",
       "      <td>...</td>\n",
       "      <td>1.0</td>\n",
       "      <td>0.0</td>\n",
       "      <td>0.0</td>\n",
       "      <td>1.0</td>\n",
       "      <td>1.0</td>\n",
       "      <td>0.0</td>\n",
       "      <td>0.0</td>\n",
       "      <td>0.0</td>\n",
       "      <td>0.0</td>\n",
       "      <td>1.0</td>\n",
       "    </tr>\n",
       "    <tr>\n",
       "      <th>2</th>\n",
       "      <td>31.0</td>\n",
       "      <td>M</td>\n",
       "      <td>179.6</td>\n",
       "      <td>78.00</td>\n",
       "      <td>20.1</td>\n",
       "      <td>92.0</td>\n",
       "      <td>152.0</td>\n",
       "      <td>44.8</td>\n",
       "      <td>12.0</td>\n",
       "      <td>49.0</td>\n",
       "      <td>...</td>\n",
       "      <td>0.0</td>\n",
       "      <td>0.0</td>\n",
       "      <td>1.0</td>\n",
       "      <td>1.0</td>\n",
       "      <td>1.0</td>\n",
       "      <td>0.0</td>\n",
       "      <td>0.0</td>\n",
       "      <td>1.0</td>\n",
       "      <td>0.0</td>\n",
       "      <td>0.0</td>\n",
       "    </tr>\n",
       "    <tr>\n",
       "      <th>3</th>\n",
       "      <td>32.0</td>\n",
       "      <td>M</td>\n",
       "      <td>174.5</td>\n",
       "      <td>71.10</td>\n",
       "      <td>18.4</td>\n",
       "      <td>76.0</td>\n",
       "      <td>147.0</td>\n",
       "      <td>41.4</td>\n",
       "      <td>15.2</td>\n",
       "      <td>53.0</td>\n",
       "      <td>...</td>\n",
       "      <td>1.0</td>\n",
       "      <td>0.0</td>\n",
       "      <td>0.0</td>\n",
       "      <td>1.0</td>\n",
       "      <td>1.0</td>\n",
       "      <td>0.0</td>\n",
       "      <td>0.0</td>\n",
       "      <td>0.0</td>\n",
       "      <td>1.0</td>\n",
       "      <td>0.0</td>\n",
       "    </tr>\n",
       "    <tr>\n",
       "      <th>4</th>\n",
       "      <td>28.0</td>\n",
       "      <td>M</td>\n",
       "      <td>173.8</td>\n",
       "      <td>67.70</td>\n",
       "      <td>17.1</td>\n",
       "      <td>70.0</td>\n",
       "      <td>127.0</td>\n",
       "      <td>43.5</td>\n",
       "      <td>27.1</td>\n",
       "      <td>45.0</td>\n",
       "      <td>...</td>\n",
       "      <td>0.0</td>\n",
       "      <td>0.0</td>\n",
       "      <td>0.0</td>\n",
       "      <td>1.0</td>\n",
       "      <td>1.0</td>\n",
       "      <td>0.0</td>\n",
       "      <td>0.0</td>\n",
       "      <td>0.0</td>\n",
       "      <td>1.0</td>\n",
       "      <td>0.0</td>\n",
       "    </tr>\n",
       "    <tr>\n",
       "      <th>...</th>\n",
       "      <td>...</td>\n",
       "      <td>...</td>\n",
       "      <td>...</td>\n",
       "      <td>...</td>\n",
       "      <td>...</td>\n",
       "      <td>...</td>\n",
       "      <td>...</td>\n",
       "      <td>...</td>\n",
       "      <td>...</td>\n",
       "      <td>...</td>\n",
       "      <td>...</td>\n",
       "      <td>...</td>\n",
       "      <td>...</td>\n",
       "      <td>...</td>\n",
       "      <td>...</td>\n",
       "      <td>...</td>\n",
       "      <td>...</td>\n",
       "      <td>...</td>\n",
       "      <td>...</td>\n",
       "      <td>...</td>\n",
       "      <td>...</td>\n",
       "    </tr>\n",
       "    <tr>\n",
       "      <th>13388</th>\n",
       "      <td>25.0</td>\n",
       "      <td>M</td>\n",
       "      <td>172.1</td>\n",
       "      <td>71.80</td>\n",
       "      <td>16.2</td>\n",
       "      <td>74.0</td>\n",
       "      <td>141.0</td>\n",
       "      <td>35.8</td>\n",
       "      <td>17.4</td>\n",
       "      <td>47.0</td>\n",
       "      <td>...</td>\n",
       "      <td>1.0</td>\n",
       "      <td>0.0</td>\n",
       "      <td>0.0</td>\n",
       "      <td>1.0</td>\n",
       "      <td>1.0</td>\n",
       "      <td>0.0</td>\n",
       "      <td>0.0</td>\n",
       "      <td>0.0</td>\n",
       "      <td>1.0</td>\n",
       "      <td>0.0</td>\n",
       "    </tr>\n",
       "    <tr>\n",
       "      <th>13389</th>\n",
       "      <td>21.0</td>\n",
       "      <td>M</td>\n",
       "      <td>179.7</td>\n",
       "      <td>63.90</td>\n",
       "      <td>12.1</td>\n",
       "      <td>74.0</td>\n",
       "      <td>128.0</td>\n",
       "      <td>33.0</td>\n",
       "      <td>1.1</td>\n",
       "      <td>48.0</td>\n",
       "      <td>...</td>\n",
       "      <td>1.0</td>\n",
       "      <td>0.0</td>\n",
       "      <td>0.0</td>\n",
       "      <td>1.0</td>\n",
       "      <td>1.0</td>\n",
       "      <td>0.0</td>\n",
       "      <td>0.0</td>\n",
       "      <td>1.0</td>\n",
       "      <td>0.0</td>\n",
       "      <td>0.0</td>\n",
       "    </tr>\n",
       "    <tr>\n",
       "      <th>13390</th>\n",
       "      <td>39.0</td>\n",
       "      <td>M</td>\n",
       "      <td>177.2</td>\n",
       "      <td>80.50</td>\n",
       "      <td>20.1</td>\n",
       "      <td>78.0</td>\n",
       "      <td>132.0</td>\n",
       "      <td>63.5</td>\n",
       "      <td>16.4</td>\n",
       "      <td>45.0</td>\n",
       "      <td>...</td>\n",
       "      <td>1.0</td>\n",
       "      <td>0.0</td>\n",
       "      <td>0.0</td>\n",
       "      <td>1.0</td>\n",
       "      <td>1.0</td>\n",
       "      <td>0.0</td>\n",
       "      <td>0.0</td>\n",
       "      <td>0.0</td>\n",
       "      <td>0.0</td>\n",
       "      <td>1.0</td>\n",
       "    </tr>\n",
       "    <tr>\n",
       "      <th>13391</th>\n",
       "      <td>64.0</td>\n",
       "      <td>F</td>\n",
       "      <td>146.1</td>\n",
       "      <td>57.70</td>\n",
       "      <td>40.4</td>\n",
       "      <td>68.0</td>\n",
       "      <td>121.0</td>\n",
       "      <td>19.3</td>\n",
       "      <td>9.2</td>\n",
       "      <td>0.0</td>\n",
       "      <td>...</td>\n",
       "      <td>0.0</td>\n",
       "      <td>0.0</td>\n",
       "      <td>0.0</td>\n",
       "      <td>1.0</td>\n",
       "      <td>1.0</td>\n",
       "      <td>0.0</td>\n",
       "      <td>1.0</td>\n",
       "      <td>0.0</td>\n",
       "      <td>0.0</td>\n",
       "      <td>0.0</td>\n",
       "    </tr>\n",
       "    <tr>\n",
       "      <th>13392</th>\n",
       "      <td>34.0</td>\n",
       "      <td>M</td>\n",
       "      <td>164.0</td>\n",
       "      <td>66.10</td>\n",
       "      <td>19.5</td>\n",
       "      <td>82.0</td>\n",
       "      <td>150.0</td>\n",
       "      <td>35.9</td>\n",
       "      <td>7.1</td>\n",
       "      <td>51.0</td>\n",
       "      <td>...</td>\n",
       "      <td>0.0</td>\n",
       "      <td>1.0</td>\n",
       "      <td>0.0</td>\n",
       "      <td>1.0</td>\n",
       "      <td>1.0</td>\n",
       "      <td>0.0</td>\n",
       "      <td>0.0</td>\n",
       "      <td>1.0</td>\n",
       "      <td>0.0</td>\n",
       "      <td>0.0</td>\n",
       "    </tr>\n",
       "  </tbody>\n",
       "</table>\n",
       "<p>13393 rows × 45 columns</p>\n",
       "</div>"
      ],
      "text/plain": [
       "        age gender  height_cm  weight_kg  body fat_%  diastolic  systolic  \\\n",
       "0      27.0      M      172.3      75.24        21.3       80.0     130.0   \n",
       "1      25.0      M      165.0      55.80        15.7       77.0     126.0   \n",
       "2      31.0      M      179.6      78.00        20.1       92.0     152.0   \n",
       "3      32.0      M      174.5      71.10        18.4       76.0     147.0   \n",
       "4      28.0      M      173.8      67.70        17.1       70.0     127.0   \n",
       "...     ...    ...        ...        ...         ...        ...       ...   \n",
       "13388  25.0      M      172.1      71.80        16.2       74.0     141.0   \n",
       "13389  21.0      M      179.7      63.90        12.1       74.0     128.0   \n",
       "13390  39.0      M      177.2      80.50        20.1       78.0     132.0   \n",
       "13391  64.0      F      146.1      57.70        40.4       68.0     121.0   \n",
       "13392  34.0      M      164.0      66.10        19.5       82.0     150.0   \n",
       "\n",
       "       gripForce  sit and bend forward_cm  sit-ups counts  ...  \\\n",
       "0           54.9                     18.4            60.0  ...   \n",
       "1           36.4                     16.3            53.0  ...   \n",
       "2           44.8                     12.0            49.0  ...   \n",
       "3           41.4                     15.2            53.0  ...   \n",
       "4           43.5                     27.1            45.0  ...   \n",
       "...          ...                      ...             ...  ...   \n",
       "13388       35.8                     17.4            47.0  ...   \n",
       "13389       33.0                      1.1            48.0  ...   \n",
       "13390       63.5                     16.4            45.0  ...   \n",
       "13391       19.3                      9.2             0.0  ...   \n",
       "13392       35.9                      7.1            51.0  ...   \n",
       "\n",
       "       dialistic_category_1 dialistic_category_2  dialistic_category_3  \\\n",
       "0                       0.0                  1.0                   0.0   \n",
       "1                       1.0                  0.0                   0.0   \n",
       "2                       0.0                  0.0                   1.0   \n",
       "3                       1.0                  0.0                   0.0   \n",
       "4                       0.0                  0.0                   0.0   \n",
       "...                     ...                  ...                   ...   \n",
       "13388                   1.0                  0.0                   0.0   \n",
       "13389                   1.0                  0.0                   0.0   \n",
       "13390                   1.0                  0.0                   0.0   \n",
       "13391                   0.0                  0.0                   0.0   \n",
       "13392                   0.0                  1.0                   0.0   \n",
       "\n",
       "       gripforce_category_0  sit_bend_category_0  sit_bend_category_1  \\\n",
       "0                       1.0                  1.0                  0.0   \n",
       "1                       1.0                  1.0                  0.0   \n",
       "2                       1.0                  1.0                  0.0   \n",
       "3                       1.0                  1.0                  0.0   \n",
       "4                       1.0                  1.0                  0.0   \n",
       "...                     ...                  ...                  ...   \n",
       "13388                   1.0                  1.0                  0.0   \n",
       "13389                   1.0                  1.0                  0.0   \n",
       "13390                   1.0                  1.0                  0.0   \n",
       "13391                   1.0                  1.0                  0.0   \n",
       "13392                   1.0                  1.0                  0.0   \n",
       "\n",
       "       jump_broad_category_0  jump_broad_category_1  jump_broad_category_2  \\\n",
       "0                        0.0                    0.0                    1.0   \n",
       "1                        0.0                    0.0                    0.0   \n",
       "2                        0.0                    1.0                    0.0   \n",
       "3                        0.0                    0.0                    1.0   \n",
       "4                        0.0                    0.0                    1.0   \n",
       "...                      ...                    ...                    ...   \n",
       "13388                    0.0                    0.0                    1.0   \n",
       "13389                    0.0                    1.0                    0.0   \n",
       "13390                    0.0                    0.0                    0.0   \n",
       "13391                    1.0                    0.0                    0.0   \n",
       "13392                    0.0                    1.0                    0.0   \n",
       "\n",
       "       jump_broad_category_3  \n",
       "0                        0.0  \n",
       "1                        1.0  \n",
       "2                        0.0  \n",
       "3                        0.0  \n",
       "4                        0.0  \n",
       "...                      ...  \n",
       "13388                    0.0  \n",
       "13389                    0.0  \n",
       "13390                    1.0  \n",
       "13391                    0.0  \n",
       "13392                    0.0  \n",
       "\n",
       "[13393 rows x 45 columns]"
      ]
     },
     "metadata": {},
     "output_type": "display_data"
    }
   ],
   "source": [
    "# List of categorical features.\n",
    "categorial = ['age_category', 'height_category', 'bodyfat_category', 'dialistic_category', 'gripforce_category', \n",
    "              'sit_bend_category', 'jump_broad_category']\n",
    "\n",
    "# Encode categorical features.\n",
    "encoded_categorial = [encode_categorial(categorial[i]) for i in range(len(categorial))] \n",
    "\n",
    "# Add the encoded values to the original dataframe.\n",
    "for i in range(len(encoded_categorial)):\n",
    "    df = df.join(encoded_categorial[i])\n",
    "    \n",
    "df    "
   ]
  },
  {
   "cell_type": "code",
   "execution_count": null,
   "id": "402f7d94",
   "metadata": {},
   "outputs": [],
   "source": [
    "# Remove quantitative features that have been converted to categorical.\n",
    "df.drop(['age', 'height_cm', 'weight_kg', 'body fat_%', 'diastolic', 'systolic', 'gripForce', \n",
    "         'sit and bend forward_cm', 'sit-ups counts', 'broad jump_cm'], axis = 1, inplace = True)\n",
    "\n",
    "# Remove the categorical features that have been coded.\n",
    "df.drop(categorial, axis = 1, inplace = True)"
   ]
  },
  {
   "cell_type": "code",
   "execution_count": null,
   "id": "79dddd33",
   "metadata": {},
   "outputs": [],
   "source": [
    "df['gender'].replace(['F', 'M'], [0, 1], inplace = True)\n",
    "df['class'].replace(['A', 'B', 'C', 'D'], [0, 1, 2, 3], inplace = True)"
   ]
  },
  {
   "attachments": {},
   "cell_type": "markdown",
   "id": "0011d631",
   "metadata": {},
   "source": [
    "### Model creating"
   ]
  },
  {
   "cell_type": "code",
   "execution_count": null,
   "id": "0257fece",
   "metadata": {},
   "outputs": [],
   "source": [
    "# Using the sklearn library, we divide the data into training and test sets:\n",
    "from sklearn.model_selection import train_test_split\n",
    "\n",
    "\n",
    "x = df.drop(['class'], axis=1)\n",
    "y = df['class']\n",
    "\n",
    "x_train, x_test, y_train, y_test = train_test_split(x, y, test_size = 0.3, random_state = 42)"
   ]
  },
  {
   "attachments": {},
   "cell_type": "markdown",
   "id": "e52a4e06",
   "metadata": {},
   "source": [
    "Now let's use the OneVsRest, OneVsOne and OutputCode strategies to solve the Multiclass classification problem. For each of the classification algorithms, we select hyperparameters, use cross-validation and data scaling for the best results."
   ]
  },
  {
   "cell_type": "code",
   "execution_count": null,
   "id": "9853a4df",
   "metadata": {},
   "outputs": [],
   "source": [
    "# Logistic Regression\n",
    "from sklearn.pipeline import Pipeline\n",
    "from sklearn.linear_model import LogisticRegression\n",
    "from sklearn.preprocessing import StandardScaler\n",
    "from sklearn.model_selection import GridSearchCV\n",
    "\n",
    "\n",
    "hyper_params_dict = { \n",
    "    'model__C': [1, 10, 100],\n",
    "    'model__solver': ['sag', 'saga', 'lbfgs'],\n",
    "    'model__penalty': ['l1', 'l2'],\n",
    "}\n",
    "\n",
    "fold_number = 3\n",
    "\n",
    "pipeline = Pipeline([('scalar', StandardScaler()), ('model', LogisticRegression())])\n",
    "\n",
    "grid = GridSearchCV(pipeline, hyper_params_dict, scoring = 'roc_auc', cv = fold_number)"
   ]
  },
  {
   "cell_type": "code",
   "execution_count": null,
   "id": "47992dc4",
   "metadata": {},
   "outputs": [
    {
     "name": "stdout",
     "output_type": "stream",
     "text": [
      "Training time: 26.33998394012451\n",
      "Train Accuracy: 0.49578666666666665\n",
      "Test Accuracy: 0.5109507217521155\n"
     ]
    }
   ],
   "source": [
    "# OneVsRest\n",
    "import time\n",
    "from sklearn.metrics import accuracy_score\n",
    "from sklearn.multiclass import OneVsRestClassifier, OneVsOneClassifier, OutputCodeClassifier\n",
    "\n",
    "\n",
    "classifier = OneVsRestClassifier(grid)\n",
    "\n",
    "start_time = time.time()\n",
    "classifier.fit(x_train, y_train.ravel())\n",
    "end_time = time.time()\n",
    "\n",
    "lr_one_vs_rest_time = end_time - start_time \n",
    "print(f'Training time: {lr_one_vs_rest_time}')\n",
    "\n",
    "y_train_pred = classifier.predict(x_train)\n",
    "lr_one_vs_rest_train_accuracy = accuracy_score(y_train, y_train_pred)\n",
    "print(f'Train Accuracy: {lr_one_vs_rest_train_accuracy}')\n",
    "\n",
    "y_test_pred = classifier.predict(x_test)\n",
    "lr_one_vs_rest_test_accuracy = accuracy_score(y_test, y_test_pred)\n",
    "print(f'Test Accuracy: {lr_one_vs_rest_test_accuracy}')"
   ]
  },
  {
   "cell_type": "code",
   "execution_count": null,
   "id": "63c7cb78",
   "metadata": {},
   "outputs": [
    {
     "name": "stdout",
     "output_type": "stream",
     "text": [
      "Training time: 16.02729630470276\n",
      "Train Accuracy: 0.50176\n",
      "Test Accuracy: 0.5151816824290691\n"
     ]
    }
   ],
   "source": [
    "# OneVsOne\n",
    "classifier = OneVsOneClassifier(grid)\n",
    "\n",
    "start_time = time.time()\n",
    "classifier.fit(x_train, y_train.ravel())\n",
    "end_time = time.time()\n",
    "\n",
    "lr_one_vs_one_time = end_time - start_time \n",
    "print(f'Training time: {lr_one_vs_one_time}')\n",
    "\n",
    "y_train_pred = classifier.predict(x_train)\n",
    "lr_one_vs_one_train_accuracy = accuracy_score(y_train, y_train_pred)\n",
    "print(f'Train Accuracy: {lr_one_vs_one_train_accuracy}')\n",
    "\n",
    "y_test_pred = classifier.predict(x_test)\n",
    "lr_one_vs_one_test_accuracy = accuracy_score(y_test, y_test_pred)\n",
    "print(f'Test Accuracy: {lr_one_vs_one_test_accuracy}')"
   ]
  },
  {
   "cell_type": "code",
   "execution_count": null,
   "id": "bc0b5eec",
   "metadata": {},
   "outputs": [
    {
     "name": "stdout",
     "output_type": "stream",
     "text": [
      "Training time: 40.50732183456421\n",
      "Train Accuracy: 0.46730666666666665\n",
      "Test Accuracy: 0.48357391737182676\n"
     ]
    }
   ],
   "source": [
    "# OutputCode\n",
    "classifier = OutputCodeClassifier(grid)\n",
    "\n",
    "start_time = time.time()\n",
    "classifier.fit(x_train, y_train.ravel())\n",
    "end_time = time.time()\n",
    "\n",
    "lr_output_time = end_time - start_time \n",
    "print(f'Training time: {lr_output_time}')\n",
    "\n",
    "y_train_pred = classifier.predict(x_train)\n",
    "lr_output_train_accuracy = accuracy_score(y_train, y_train_pred)\n",
    "print(f'Train Accuracy: {lr_output_train_accuracy}')\n",
    "\n",
    "y_test_pred = classifier.predict(x_test)\n",
    "lr_output_test_accuracy = accuracy_score(y_test, y_test_pred)\n",
    "print(f'Test Accuracy: {lr_output_test_accuracy}')"
   ]
  },
  {
   "cell_type": "code",
   "execution_count": null,
   "id": "0ac7bea0",
   "metadata": {},
   "outputs": [],
   "source": [
    "# SVM\n",
    "from sklearn.svm import SVC\n",
    "\n",
    "\n",
    "hyper_params_dict = { \n",
    "    'model__C': [1, 5, 50],\n",
    "    'model__kernel': ['sigmoid']\n",
    "}\n",
    "\n",
    "fold_number = 3\n",
    "\n",
    "pipeline = Pipeline([('scalar', StandardScaler()), ('model', SVC())])\n",
    "\n",
    "grid = GridSearchCV(pipeline, hyper_params_dict, scoring='roc_auc', cv=fold_number)"
   ]
  },
  {
   "cell_type": "code",
   "execution_count": null,
   "id": "5ee13d80",
   "metadata": {},
   "outputs": [
    {
     "name": "stdout",
     "output_type": "stream",
     "text": [
      "Training time: 105.1715681552887\n",
      "Train Accuracy: 0.3463466666666667\n",
      "Test Accuracy: 0.3549029367844699\n"
     ]
    }
   ],
   "source": [
    "# OneVsRest\n",
    "classifier = OneVsRestClassifier(grid)\n",
    "\n",
    "start_time = time.time()\n",
    "classifier.fit(x_train, y_train.ravel())\n",
    "end_time = time.time()\n",
    "\n",
    "svm_one_vs_rest_time = end_time - start_time \n",
    "print(f'Training time: {svm_one_vs_rest_time}')\n",
    "\n",
    "y_train_pred = classifier.predict(x_train)\n",
    "svm_one_vs_rest_train_accuracy = accuracy_score(y_train, y_train_pred)\n",
    "print(f'Train Accuracy: {svm_one_vs_rest_train_accuracy}')\n",
    "\n",
    "y_test_pred = classifier.predict(x_test)\n",
    "svm_one_vs_rest_test_accuracy = accuracy_score(y_test, y_test_pred)\n",
    "print(f'Test Accuracy: {svm_one_vs_rest_test_accuracy}')"
   ]
  },
  {
   "cell_type": "code",
   "execution_count": null,
   "id": "a1c3251c",
   "metadata": {},
   "outputs": [
    {
     "name": "stdout",
     "output_type": "stream",
     "text": [
      "Training time: 51.35582208633423\n",
      "Train Accuracy: 0.31253333333333333\n",
      "Test Accuracy: 0.3203086112493778\n"
     ]
    }
   ],
   "source": [
    "# OneVsOne\n",
    "classifier = OneVsOneClassifier(grid)\n",
    "\n",
    "start_time = time.time()\n",
    "classifier.fit(x_train, y_train.ravel())\n",
    "end_time = time.time()\n",
    "\n",
    "svm_one_vs_one_time = end_time - start_time \n",
    "print(f'Training time: {svm_one_vs_one_time}')\n",
    "\n",
    "y_train_pred = classifier.predict(x_train)\n",
    "svm_one_vs_one_train_accuracy = accuracy_score(y_train, y_train_pred)\n",
    "print(f'Train Accuracy: {svm_one_vs_one_train_accuracy}')\n",
    "\n",
    "y_test_pred = classifier.predict(x_test)\n",
    "svm_one_vs_one_test_accuracy = accuracy_score(y_test, y_test_pred)\n",
    "print(f'Test Accuracy: {svm_one_vs_one_test_accuracy}')"
   ]
  },
  {
   "cell_type": "code",
   "execution_count": null,
   "id": "a2770e13",
   "metadata": {},
   "outputs": [
    {
     "name": "stdout",
     "output_type": "stream",
     "text": [
      "Training time: 140.4419801235199\n",
      "Train Accuracy: 0.32192\n",
      "Test Accuracy: 0.336734693877551\n"
     ]
    }
   ],
   "source": [
    "# OutputCode\n",
    "classifier = OutputCodeClassifier(grid)\n",
    "\n",
    "start_time = time.time()\n",
    "classifier.fit(x_train, y_train.ravel())\n",
    "end_time = time.time()\n",
    "\n",
    "svm_output_time = end_time - start_time \n",
    "print(f'Training time: {svm_output_time}')\n",
    "\n",
    "y_train_pred = classifier.predict(x_train)\n",
    "svm_output_train_accuracy = accuracy_score(y_train, y_train_pred)\n",
    "print(f'Train Accuracy: {svm_output_train_accuracy}')\n",
    "\n",
    "y_test_pred = classifier.predict(x_test)\n",
    "svm_output_test_accuracy = accuracy_score(y_test, y_test_pred)\n",
    "print(f'Test Accuracy: {svm_output_test_accuracy}')"
   ]
  },
  {
   "cell_type": "code",
   "execution_count": null,
   "id": "42feba88",
   "metadata": {},
   "outputs": [],
   "source": [
    "# KNN\n",
    "from sklearn.neighbors import KNeighborsClassifier\n",
    "\n",
    "hyper_params_dict = { \n",
    "    'model__n_neighbors': [1, 2, 3, 4, 5],\n",
    "    'model__leaf_size': [20, 40, 60, 80],\n",
    "    'model__weights': ['distance', 'uniform'],\n",
    "    'model__n_jobs': [-1]\n",
    "}\n",
    "\n",
    "fold_number = 3\n",
    "\n",
    "pipeline = Pipeline([('scalar', StandardScaler()), ('model', KNeighborsClassifier())])\n",
    "\n",
    "grid = GridSearchCV(pipeline, hyper_params_dict, scoring='roc_auc', cv=fold_number)"
   ]
  },
  {
   "cell_type": "code",
   "execution_count": null,
   "id": "3bdebcda",
   "metadata": {},
   "outputs": [
    {
     "name": "stdout",
     "output_type": "stream",
     "text": [
      "Training time: 55.76087689399719\n",
      "Train Accuracy: 0.3387733333333333\n",
      "Test Accuracy: 0.3511697361871578\n"
     ]
    }
   ],
   "source": [
    "# OneVsRest\n",
    "classifier = OneVsRestClassifier(grid)\n",
    "\n",
    "start_time = time.time()\n",
    "classifier.fit(x_train, y_train.ravel())\n",
    "end_time = time.time()\n",
    "\n",
    "knn_one_vs_rest_time = end_time - start_time \n",
    "print(f'Training time: {knn_one_vs_rest_time}')\n",
    "\n",
    "y_train_pred = classifier.predict(x_train)\n",
    "knn_one_vs_rest_train_accuracy = accuracy_score(y_train, y_train_pred)\n",
    "print(f'Train Accuracy: {knn_one_vs_rest_train_accuracy}')\n",
    "\n",
    "y_test_pred = classifier.predict(x_test)\n",
    "knn_one_vs_rest_test_accuracy = accuracy_score(y_test, y_test_pred)\n",
    "print(f'Test Accuracy: {knn_one_vs_rest_test_accuracy}')"
   ]
  },
  {
   "cell_type": "code",
   "execution_count": null,
   "id": "e02b5dc4",
   "metadata": {},
   "outputs": [
    {
     "name": "stdout",
     "output_type": "stream",
     "text": [
      "Training time: 49.23512387275696\n",
      "Train Accuracy: 0.34741333333333335\n",
      "Test Accuracy: 0.34668989547038326\n"
     ]
    }
   ],
   "source": [
    "# OneVsOne\n",
    "classifier = OneVsOneClassifier(grid)\n",
    "\n",
    "start_time = time.time()\n",
    "classifier.fit(x_train, y_train.ravel())\n",
    "end_time = time.time()\n",
    "\n",
    "knn_one_vs_one_time = end_time - start_time \n",
    "print(f'Training time: {knn_one_vs_one_time}')\n",
    "\n",
    "y_train_pred = classifier.predict(x_train)\n",
    "knn_one_vs_one_train_accuracy = accuracy_score(y_train, y_train_pred)\n",
    "print(f'Train Accuracy: {knn_one_vs_one_train_accuracy}')\n",
    "\n",
    "y_test_pred = classifier.predict(x_test)\n",
    "knn_one_vs_one_test_accuracy = accuracy_score(y_test, y_test_pred)\n",
    "print(f'Test Accuracy: {knn_one_vs_one_test_accuracy}')"
   ]
  },
  {
   "cell_type": "code",
   "execution_count": null,
   "id": "229e8416",
   "metadata": {},
   "outputs": [
    {
     "name": "stdout",
     "output_type": "stream",
     "text": [
      "Training time: 56.35640740394592\n",
      "Train Accuracy: 0.33194666666666667\n",
      "Test Accuracy: 0.3469387755102041\n"
     ]
    }
   ],
   "source": [
    "# OutputCode\n",
    "classifier = OutputCodeClassifier(grid)\n",
    "\n",
    "start_time = time.time()\n",
    "classifier.fit(x_train, y_train.ravel())\n",
    "end_time = time.time()\n",
    "\n",
    "knn_output_time = end_time - start_time \n",
    "print(f'Training time: {knn_output_time}')\n",
    "\n",
    "y_train_pred = classifier.predict(x_train)\n",
    "knn_output_train_accuracy = accuracy_score(y_train, y_train_pred)\n",
    "print(f'Train Accuracy: {knn_output_train_accuracy}')\n",
    "\n",
    "y_test_pred = classifier.predict(x_test)\n",
    "knn_output_test_accuracy = accuracy_score(y_test, y_test_pred)\n",
    "print(f'Test Accuracy: {knn_output_test_accuracy}')"
   ]
  },
  {
   "cell_type": "code",
   "execution_count": null,
   "id": "ea33e2fb",
   "metadata": {},
   "outputs": [],
   "source": [
    "# Naive Bayes\n",
    "from sklearn.naive_bayes import GaussianNB\n",
    "\n",
    "\n",
    "hyper_params_dict = {\n",
    "    'model__var_smoothing' : [10 ** (- i - 10) for i in range (-4, 16)]\n",
    "}\n",
    "\n",
    "fold_number = 3\n",
    "\n",
    "pipeline = Pipeline([('scalar', StandardScaler()), ('model', GaussianNB())])\n",
    "\n",
    "grid = GridSearchCV(pipeline, hyper_params_dict, scoring='roc_auc', cv=fold_number)"
   ]
  },
  {
   "cell_type": "code",
   "execution_count": null,
   "id": "31e5c2c4",
   "metadata": {},
   "outputs": [
    {
     "name": "stdout",
     "output_type": "stream",
     "text": [
      "Training time: 6.735365152359009\n",
      "Train Accuracy: 0.37536\n",
      "Test Accuracy: 0.3932304629168741\n"
     ]
    }
   ],
   "source": [
    "# OneVsRest\n",
    "classifier = OneVsRestClassifier(grid)\n",
    "\n",
    "start_time = time.time()\n",
    "classifier.fit(x_train, y_train.ravel())\n",
    "end_time = time.time()\n",
    "\n",
    "nb_one_vs_rest_time = end_time - start_time \n",
    "print(f'Training time: {nb_one_vs_rest_time}')\n",
    "\n",
    "y_train_pred = classifier.predict(x_train)\n",
    "nb_one_vs_rest_train_accuracy = accuracy_score(y_train, y_train_pred)\n",
    "print(f'Train Accuracy: {nb_one_vs_rest_train_accuracy}')\n",
    "\n",
    "y_test_pred = classifier.predict(x_test)\n",
    "nb_one_vs_rest_test_accuracy = accuracy_score(y_test, y_test_pred)\n",
    "print(f'Test Accuracy: {nb_one_vs_rest_test_accuracy}')"
   ]
  },
  {
   "cell_type": "code",
   "execution_count": null,
   "id": "3c2c18a3",
   "metadata": {},
   "outputs": [
    {
     "name": "stdout",
     "output_type": "stream",
     "text": [
      "Training time: 5.17497706413269\n",
      "Train Accuracy: 0.37536\n",
      "Test Accuracy: 0.3932304629168741\n"
     ]
    }
   ],
   "source": [
    "# OneVsOne\n",
    "classifier = OneVsOneClassifier(grid)\n",
    "\n",
    "start_time = time.time()\n",
    "classifier.fit(x_train, y_train.ravel())\n",
    "end_time = time.time()\n",
    "\n",
    "nb_one_vs_one_time = end_time - start_time \n",
    "print(f'Training time: {nb_one_vs_one_time}')\n",
    "\n",
    "y_train_pred = classifier.predict(x_train)\n",
    "nb_one_vs_one_train_accuracy = accuracy_score(y_train, y_train_pred)\n",
    "print(f'Train Accuracy: {nb_one_vs_one_train_accuracy}')\n",
    "\n",
    "y_test_pred = classifier.predict(x_test)\n",
    "nb_one_vs_one_test_accuracy = accuracy_score(y_test, y_test_pred)\n",
    "print(f'Test Accuracy: {nb_one_vs_one_test_accuracy}')"
   ]
  },
  {
   "cell_type": "code",
   "execution_count": null,
   "id": "e1139558",
   "metadata": {},
   "outputs": [
    {
     "name": "stdout",
     "output_type": "stream",
     "text": [
      "Training time: 9.364894390106201\n",
      "Train Accuracy: 0.31648\n",
      "Test Accuracy: 0.31856645097063213\n"
     ]
    }
   ],
   "source": [
    "# OutputCode\n",
    "classifier = OutputCodeClassifier(grid)\n",
    "\n",
    "start_time = time.time()\n",
    "classifier.fit(x_train, y_train.ravel())\n",
    "end_time = time.time()\n",
    "\n",
    "nb_output_time = end_time - start_time \n",
    "print(f'Training time: {nb_output_time}')\n",
    "\n",
    "y_train_pred = classifier.predict(x_train)\n",
    "nb_output_train_accuracy = accuracy_score(y_train, y_train_pred)\n",
    "print(f'Train Accuracy: {nb_output_train_accuracy}')\n",
    "\n",
    "y_test_pred = classifier.predict(x_test)\n",
    "nb_output_test_accuracy = accuracy_score(y_test, y_test_pred)\n",
    "print(f'Test Accuracy: {nb_output_test_accuracy}')"
   ]
  },
  {
   "cell_type": "code",
   "execution_count": null,
   "id": "e8fe42fa",
   "metadata": {},
   "outputs": [],
   "source": [
    "# Decision Tree\n",
    "from sklearn.tree import DecisionTreeClassifier\n",
    "\n",
    "hyper_params_dict = {\n",
    "    'model__max_depth': [i for i in range (1, 13)],\n",
    "    'model__criterion': ['gini', 'entropy']\n",
    "}\n",
    "\n",
    "fold_number = 3\n",
    "\n",
    "pipeline = Pipeline([('scalar', StandardScaler()), ('model', DecisionTreeClassifier())])\n",
    "\n",
    "grid = GridSearchCV(pipeline, hyper_params_dict, scoring = 'roc_auc', cv = fold_number)"
   ]
  },
  {
   "cell_type": "code",
   "execution_count": null,
   "id": "d70783eb",
   "metadata": {},
   "outputs": [
    {
     "name": "stdout",
     "output_type": "stream",
     "text": [
      "Training time: 8.950581550598145\n",
      "Train Accuracy: 0.42965333333333333\n",
      "Test Accuracy: 0.4487307117969139\n"
     ]
    }
   ],
   "source": [
    "# OneVsRest\n",
    "classifier = OneVsRestClassifier(grid)\n",
    "\n",
    "start_time = time.time()\n",
    "classifier.fit(x_train, y_train.ravel())\n",
    "end_time = time.time()\n",
    "\n",
    "dt_one_vs_rest_time = end_time - start_time \n",
    "print(f'Training time: {dt_one_vs_rest_time}')\n",
    "\n",
    "y_train_pred = classifier.predict(x_train)\n",
    "dt_one_vs_rest_train_accuracy = accuracy_score(y_train, y_train_pred)\n",
    "print(f'Train Accuracy: {dt_one_vs_rest_train_accuracy}')\n",
    "\n",
    "y_test_pred = classifier.predict(x_test)\n",
    "dt_one_vs_rest_test_accuracy = accuracy_score(y_test, y_test_pred)\n",
    "print(f'Test Accuracy: {dt_one_vs_rest_test_accuracy}')"
   ]
  },
  {
   "cell_type": "code",
   "execution_count": null,
   "id": "5ca39bca",
   "metadata": {},
   "outputs": [
    {
     "name": "stdout",
     "output_type": "stream",
     "text": [
      "Training time: 5.621447563171387\n",
      "Train Accuracy: 0.42965333333333333\n",
      "Test Accuracy: 0.4487307117969139\n"
     ]
    }
   ],
   "source": [
    "# OneVsOne\n",
    "classifier = OneVsOneClassifier(grid)\n",
    "\n",
    "start_time = time.time()\n",
    "classifier.fit(x_train, y_train.ravel())\n",
    "end_time = time.time()\n",
    "\n",
    "dt_one_vs_one_time = end_time - start_time \n",
    "print(f'Training time: {dt_one_vs_one_time}')\n",
    "\n",
    "y_train_pred = classifier.predict(x_train)\n",
    "dt_one_vs_one_train_accuracy = accuracy_score(y_train, y_train_pred)\n",
    "print(f'Train Accuracy: {dt_one_vs_one_train_accuracy}')\n",
    "\n",
    "y_test_pred = classifier.predict(x_test)\n",
    "dt_one_vs_one_test_accuracy = accuracy_score(y_test, y_test_pred)\n",
    "print(f'Test Accuracy: {dt_one_vs_one_test_accuracy}')"
   ]
  },
  {
   "cell_type": "code",
   "execution_count": null,
   "id": "f167513d",
   "metadata": {},
   "outputs": [
    {
     "name": "stdout",
     "output_type": "stream",
     "text": [
      "Training time: 11.714429378509521\n",
      "Train Accuracy: 0.42218666666666665\n",
      "Test Accuracy: 0.4415131906421105\n"
     ]
    }
   ],
   "source": [
    "# OutputCode\n",
    "classifier = OutputCodeClassifier(grid)\n",
    "\n",
    "start_time = time.time()\n",
    "classifier.fit(x_train, y_train.ravel())\n",
    "end_time = time.time()\n",
    "\n",
    "dt_output_time = end_time - start_time \n",
    "print(f'Training time: {dt_output_time}')\n",
    "\n",
    "y_train_pred = classifier.predict(x_train)\n",
    "dt_output_train_accuracy = accuracy_score(y_train, y_train_pred)\n",
    "print(f'Train Accuracy: {dt_output_train_accuracy}')\n",
    "\n",
    "y_test_pred = classifier.predict(x_test)\n",
    "dt_output_test_accuracy = accuracy_score(y_test, y_test_pred)\n",
    "print(f'Test Accuracy: {dt_output_test_accuracy}')"
   ]
  },
  {
   "attachments": {},
   "cell_type": "markdown",
   "id": "a8c24676",
   "metadata": {},
   "source": [
    "### Summarizing"
   ]
  },
  {
   "cell_type": "code",
   "execution_count": null,
   "id": "2d55f65c",
   "metadata": {},
   "outputs": [
    {
     "data": {
      "text/html": [
       "<div>\n",
       "<style scoped>\n",
       "    .dataframe tbody tr th:only-of-type {\n",
       "        vertical-align: middle;\n",
       "    }\n",
       "\n",
       "    .dataframe tbody tr th {\n",
       "        vertical-align: top;\n",
       "    }\n",
       "\n",
       "    .dataframe thead th {\n",
       "        text-align: right;\n",
       "    }\n",
       "</style>\n",
       "<table border=\"1\" class=\"dataframe\">\n",
       "  <thead>\n",
       "    <tr style=\"text-align: right;\">\n",
       "      <th></th>\n",
       "      <th>Classification algorithm</th>\n",
       "      <th>OneVsRest Train Accuracy</th>\n",
       "      <th>OneVsRest Test Accuracy</th>\n",
       "      <th>OneVsOne Train Accuracy</th>\n",
       "      <th>OneVsOne Test Accuracy</th>\n",
       "      <th>OutputCode Train Accuracy</th>\n",
       "      <th>OutputCode Test Accuracy</th>\n",
       "      <th>OneVsRest Training Time in seconds</th>\n",
       "      <th>OneVsOne Training Time in seconds</th>\n",
       "      <th>OutputCode Training Time in seconds</th>\n",
       "    </tr>\n",
       "  </thead>\n",
       "  <tbody>\n",
       "    <tr>\n",
       "      <th>0</th>\n",
       "      <td>Logistic Regression</td>\n",
       "      <td>0.495787</td>\n",
       "      <td>0.510951</td>\n",
       "      <td>0.501760</td>\n",
       "      <td>0.515182</td>\n",
       "      <td>0.467307</td>\n",
       "      <td>0.483574</td>\n",
       "      <td>26.339984</td>\n",
       "      <td>16.027296</td>\n",
       "      <td>40.507322</td>\n",
       "    </tr>\n",
       "    <tr>\n",
       "      <th>1</th>\n",
       "      <td>SVM</td>\n",
       "      <td>0.324373</td>\n",
       "      <td>0.339970</td>\n",
       "      <td>0.360107</td>\n",
       "      <td>0.378049</td>\n",
       "      <td>0.304533</td>\n",
       "      <td>0.315331</td>\n",
       "      <td>66.033443</td>\n",
       "      <td>30.433469</td>\n",
       "      <td>138.747367</td>\n",
       "    </tr>\n",
       "    <tr>\n",
       "      <th>2</th>\n",
       "      <td>KNN</td>\n",
       "      <td>0.569707</td>\n",
       "      <td>0.421852</td>\n",
       "      <td>0.560853</td>\n",
       "      <td>0.435042</td>\n",
       "      <td>0.549013</td>\n",
       "      <td>0.416376</td>\n",
       "      <td>21.550136</td>\n",
       "      <td>10.216642</td>\n",
       "      <td>26.693316</td>\n",
       "    </tr>\n",
       "    <tr>\n",
       "      <th>3</th>\n",
       "      <td>Naive Bayes</td>\n",
       "      <td>0.311467</td>\n",
       "      <td>0.317322</td>\n",
       "      <td>0.394880</td>\n",
       "      <td>0.415879</td>\n",
       "      <td>0.246080</td>\n",
       "      <td>0.259582</td>\n",
       "      <td>3.501473</td>\n",
       "      <td>2.096465</td>\n",
       "      <td>5.766146</td>\n",
       "    </tr>\n",
       "    <tr>\n",
       "      <th>4</th>\n",
       "      <td>Decision Tree</td>\n",
       "      <td>0.526720</td>\n",
       "      <td>0.510702</td>\n",
       "      <td>0.520107</td>\n",
       "      <td>0.516426</td>\n",
       "      <td>0.440107</td>\n",
       "      <td>0.449975</td>\n",
       "      <td>5.481608</td>\n",
       "      <td>3.457598</td>\n",
       "      <td>8.303097</td>\n",
       "    </tr>\n",
       "  </tbody>\n",
       "</table>\n",
       "</div>"
      ],
      "text/plain": [
       "  Classification algorithm  OneVsRest Train Accuracy  OneVsRest Test Accuracy  \\\n",
       "0      Logistic Regression                  0.495787                 0.510951   \n",
       "1                      SVM                  0.324373                 0.339970   \n",
       "2                      KNN                  0.569707                 0.421852   \n",
       "3              Naive Bayes                  0.311467                 0.317322   \n",
       "4            Decision Tree                  0.526720                 0.510702   \n",
       "\n",
       "   OneVsOne Train Accuracy  OneVsOne Test Accuracy  OutputCode Train Accuracy  \\\n",
       "0                 0.501760                0.515182                   0.467307   \n",
       "1                 0.360107                0.378049                   0.304533   \n",
       "2                 0.560853                0.435042                   0.549013   \n",
       "3                 0.394880                0.415879                   0.246080   \n",
       "4                 0.520107                0.516426                   0.440107   \n",
       "\n",
       "   OutputCode Test Accuracy  OneVsRest Training Time in seconds  \\\n",
       "0                  0.483574                           26.339984   \n",
       "1                  0.315331                           66.033443   \n",
       "2                  0.416376                           21.550136   \n",
       "3                  0.259582                            3.501473   \n",
       "4                  0.449975                            5.481608   \n",
       "\n",
       "   OneVsOne Training Time in seconds  OutputCode Training Time in seconds  \n",
       "0                          16.027296                            40.507322  \n",
       "1                          30.433469                           138.747367  \n",
       "2                          10.216642                            26.693316  \n",
       "3                           2.096465                             5.766146  \n",
       "4                           3.457598                             8.303097  "
      ]
     },
     "metadata": {},
     "output_type": "display_data"
    }
   ],
   "source": [
    "# Let's create a table for all the obtained values:\n",
    "columns_names = [\n",
    "    'Classification algorithm',\n",
    "    'OneVsRest Train Accuracy',\n",
    "    'OneVsRest Test Accuracy',\n",
    "    'OneVsOne Train Accuracy',\n",
    "    'OneVsOne Test Accuracy',\n",
    "    'OutputCode Train Accuracy',\n",
    "    'OutputCode Test Accuracy',\n",
    "    'OneVsRest Training Time in seconds',\n",
    "    'OneVsOne Training Time in seconds',\n",
    "    'OutputCode Training Time in seconds'\n",
    "] \n",
    "\n",
    "result_dict = [\n",
    "    ('Logistic Regression', \n",
    "     lr_one_vs_rest_train_accuracy,\n",
    "     lr_one_vs_rest_test_accuracy,\n",
    "     lr_one_vs_one_train_accuracy,\n",
    "     lr_one_vs_one_test_accuracy,\n",
    "     lr_output_train_accuracy,\n",
    "     lr_output_test_accuracy,\n",
    "     lr_one_vs_rest_time,\n",
    "     lr_one_vs_one_time,\n",
    "     lr_output_time\n",
    "    ),\n",
    "    ('SVM', \n",
    "     svm_one_vs_rest_train_accuracy,\n",
    "     svm_one_vs_rest_test_accuracy,\n",
    "     svm_one_vs_one_train_accuracy,\n",
    "     svm_one_vs_one_test_accuracy,\n",
    "     svm_output_train_accuracy,\n",
    "     svm_output_test_accuracy,\n",
    "     svm_one_vs_rest_time,\n",
    "     svm_one_vs_one_time,\n",
    "     svm_output_time\n",
    "    ),\n",
    "    ('KNN', \n",
    "     knn_one_vs_rest_train_accuracy,\n",
    "     knn_one_vs_rest_test_accuracy,\n",
    "     knn_one_vs_one_train_accuracy,\n",
    "     knn_one_vs_one_test_accuracy,\n",
    "     knn_output_train_accuracy,\n",
    "     knn_output_test_accuracy,\n",
    "     knn_one_vs_rest_time,\n",
    "     knn_one_vs_one_time,\n",
    "     knn_output_time\n",
    "    ),\n",
    "    ('Naive Bayes', \n",
    "     nb_one_vs_rest_train_accuracy,\n",
    "     nb_one_vs_rest_test_accuracy,\n",
    "     nb_one_vs_one_train_accuracy,\n",
    "     nb_one_vs_one_test_accuracy,\n",
    "     nb_output_train_accuracy,\n",
    "     nb_output_test_accuracy,\n",
    "     nb_one_vs_rest_time,\n",
    "     nb_one_vs_one_time,\n",
    "     nb_output_time\n",
    "    ),\n",
    "    ('Decision Tree', \n",
    "     dt_one_vs_rest_train_accuracy,\n",
    "     dt_one_vs_rest_test_accuracy,\n",
    "     dt_one_vs_one_train_accuracy,\n",
    "     dt_one_vs_one_test_accuracy,\n",
    "     dt_output_train_accuracy,\n",
    "     dt_output_test_accuracy,\n",
    "     dt_one_vs_rest_time,\n",
    "     dt_one_vs_one_time,\n",
    "     dt_output_time\n",
    "    )\n",
    "]\n",
    "\n",
    "result = pd.DataFrame(data = result_dict, columns = columns_names)\n",
    "\n",
    "result"
   ]
  },
  {
   "attachments": {},
   "cell_type": "markdown",
   "id": "a048df03",
   "metadata": {},
   "source": [
    "- The best accuracy on the training data was shown by the KNN classification algorithm with the OneVsRest strategy\n",
    "- The worst accuracy on the training data was shown by the Naive Bayes classification algorithm with the OutputCode strategy\n",
    "- The best accuracy on the test data was shown by the Decesion Tree classification algorithm with the OneVsOne strategy\n",
    "- The worst accuracy on the test data was shown by the Naive Bayes classification algorithm with the OutputCode strategy\n",
    "- The fastest model training time was shown by the Naive Bayes classification algorithm with the OneVsOne strategy\n",
    "- The slowest model training time was shown by the SVM classification algorithm with the OutputCode strategy"
   ]
  },
  {
   "cell_type": "markdown",
   "id": "d74d2e7a",
   "metadata": {},
   "source": [
    "## Multioutput regression"
   ]
  },
  {
   "attachments": {},
   "cell_type": "markdown",
   "id": "7b8aa11b",
   "metadata": {},
   "source": [
    "### Prediction river flow index"
   ]
  },
  {
   "cell_type": "code",
   "execution_count": 383,
   "id": "7bd5cd10",
   "metadata": {},
   "outputs": [
    {
     "data": {
      "text/html": [
       "<div>\n",
       "<style scoped>\n",
       "    .dataframe tbody tr th:only-of-type {\n",
       "        vertical-align: middle;\n",
       "    }\n",
       "\n",
       "    .dataframe tbody tr th {\n",
       "        vertical-align: top;\n",
       "    }\n",
       "\n",
       "    .dataframe thead th {\n",
       "        text-align: right;\n",
       "    }\n",
       "</style>\n",
       "<table border=\"1\" class=\"dataframe\">\n",
       "  <thead>\n",
       "    <tr style=\"text-align: right;\">\n",
       "      <th></th>\n",
       "      <th>id</th>\n",
       "      <th>CHSI2__0</th>\n",
       "      <th>NASI2__0</th>\n",
       "      <th>EADM7__0</th>\n",
       "      <th>SCLM7__0</th>\n",
       "      <th>CLKM7__0</th>\n",
       "      <th>VALI2__0</th>\n",
       "      <th>NAPM7__0</th>\n",
       "      <th>DLDI4__0</th>\n",
       "      <th>CHSI2__-6</th>\n",
       "      <th>...</th>\n",
       "      <th>NAPM7__-60</th>\n",
       "      <th>DLDI4__-60</th>\n",
       "      <th>CHSI2_48H__0</th>\n",
       "      <th>NASI2_48H__0</th>\n",
       "      <th>EADM7_48H__0</th>\n",
       "      <th>SCLM7_48H__0</th>\n",
       "      <th>CLKM7_48H__0</th>\n",
       "      <th>VALI2_48H__0</th>\n",
       "      <th>NAPM7_48H__0</th>\n",
       "      <th>DLDI4_48H__0</th>\n",
       "    </tr>\n",
       "  </thead>\n",
       "  <tbody>\n",
       "    <tr>\n",
       "      <th>0</th>\n",
       "      <td>0</td>\n",
       "      <td>288.0</td>\n",
       "      <td>3.41</td>\n",
       "      <td>276.0</td>\n",
       "      <td>194.0</td>\n",
       "      <td>63.8</td>\n",
       "      <td>8.78</td>\n",
       "      <td>166.0</td>\n",
       "      <td>59.5</td>\n",
       "      <td>NaN</td>\n",
       "      <td>...</td>\n",
       "      <td>NaN</td>\n",
       "      <td>NaN</td>\n",
       "      <td>269.0</td>\n",
       "      <td>3.33</td>\n",
       "      <td>257.0</td>\n",
       "      <td>186.0</td>\n",
       "      <td>61.2</td>\n",
       "      <td>8.07</td>\n",
       "      <td>157.0</td>\n",
       "      <td>55.1</td>\n",
       "    </tr>\n",
       "    <tr>\n",
       "      <th>1</th>\n",
       "      <td>1</td>\n",
       "      <td>287.0</td>\n",
       "      <td>3.40</td>\n",
       "      <td>275.0</td>\n",
       "      <td>194.0</td>\n",
       "      <td>64.1</td>\n",
       "      <td>8.81</td>\n",
       "      <td>165.0</td>\n",
       "      <td>59.4</td>\n",
       "      <td>NaN</td>\n",
       "      <td>...</td>\n",
       "      <td>NaN</td>\n",
       "      <td>NaN</td>\n",
       "      <td>269.0</td>\n",
       "      <td>3.32</td>\n",
       "      <td>257.0</td>\n",
       "      <td>185.0</td>\n",
       "      <td>61.1</td>\n",
       "      <td>8.04</td>\n",
       "      <td>157.0</td>\n",
       "      <td>55.2</td>\n",
       "    </tr>\n",
       "    <tr>\n",
       "      <th>2</th>\n",
       "      <td>2</td>\n",
       "      <td>288.0</td>\n",
       "      <td>3.39</td>\n",
       "      <td>274.0</td>\n",
       "      <td>193.0</td>\n",
       "      <td>63.4</td>\n",
       "      <td>8.88</td>\n",
       "      <td>165.0</td>\n",
       "      <td>59.4</td>\n",
       "      <td>NaN</td>\n",
       "      <td>...</td>\n",
       "      <td>NaN</td>\n",
       "      <td>NaN</td>\n",
       "      <td>268.0</td>\n",
       "      <td>3.32</td>\n",
       "      <td>257.0</td>\n",
       "      <td>186.0</td>\n",
       "      <td>61.3</td>\n",
       "      <td>8.14</td>\n",
       "      <td>156.0</td>\n",
       "      <td>55.2</td>\n",
       "    </tr>\n",
       "    <tr>\n",
       "      <th>3</th>\n",
       "      <td>3</td>\n",
       "      <td>287.0</td>\n",
       "      <td>3.39</td>\n",
       "      <td>273.0</td>\n",
       "      <td>193.0</td>\n",
       "      <td>64.0</td>\n",
       "      <td>8.70</td>\n",
       "      <td>164.0</td>\n",
       "      <td>57.9</td>\n",
       "      <td>NaN</td>\n",
       "      <td>...</td>\n",
       "      <td>NaN</td>\n",
       "      <td>NaN</td>\n",
       "      <td>268.0</td>\n",
       "      <td>3.33</td>\n",
       "      <td>257.0</td>\n",
       "      <td>185.0</td>\n",
       "      <td>61.2</td>\n",
       "      <td>8.21</td>\n",
       "      <td>156.0</td>\n",
       "      <td>55.9</td>\n",
       "    </tr>\n",
       "    <tr>\n",
       "      <th>4</th>\n",
       "      <td>4</td>\n",
       "      <td>287.0</td>\n",
       "      <td>3.34</td>\n",
       "      <td>273.0</td>\n",
       "      <td>193.0</td>\n",
       "      <td>64.0</td>\n",
       "      <td>8.78</td>\n",
       "      <td>165.0</td>\n",
       "      <td>57.9</td>\n",
       "      <td>NaN</td>\n",
       "      <td>...</td>\n",
       "      <td>NaN</td>\n",
       "      <td>NaN</td>\n",
       "      <td>266.0</td>\n",
       "      <td>3.31</td>\n",
       "      <td>257.0</td>\n",
       "      <td>185.0</td>\n",
       "      <td>61.4</td>\n",
       "      <td>8.04</td>\n",
       "      <td>156.0</td>\n",
       "      <td>55.9</td>\n",
       "    </tr>\n",
       "  </tbody>\n",
       "</table>\n",
       "<p>5 rows × 73 columns</p>\n",
       "</div>"
      ],
      "text/plain": [
       "   id  CHSI2__0  NASI2__0  EADM7__0  SCLM7__0  CLKM7__0  VALI2__0  NAPM7__0  \\\n",
       "0   0     288.0      3.41     276.0     194.0      63.8      8.78     166.0   \n",
       "1   1     287.0      3.40     275.0     194.0      64.1      8.81     165.0   \n",
       "2   2     288.0      3.39     274.0     193.0      63.4      8.88     165.0   \n",
       "3   3     287.0      3.39     273.0     193.0      64.0      8.70     164.0   \n",
       "4   4     287.0      3.34     273.0     193.0      64.0      8.78     165.0   \n",
       "\n",
       "   DLDI4__0  CHSI2__-6  ...  NAPM7__-60  DLDI4__-60  CHSI2_48H__0  \\\n",
       "0      59.5        NaN  ...         NaN         NaN         269.0   \n",
       "1      59.4        NaN  ...         NaN         NaN         269.0   \n",
       "2      59.4        NaN  ...         NaN         NaN         268.0   \n",
       "3      57.9        NaN  ...         NaN         NaN         268.0   \n",
       "4      57.9        NaN  ...         NaN         NaN         266.0   \n",
       "\n",
       "   NASI2_48H__0  EADM7_48H__0  SCLM7_48H__0  CLKM7_48H__0  VALI2_48H__0  \\\n",
       "0          3.33         257.0         186.0          61.2          8.07   \n",
       "1          3.32         257.0         185.0          61.1          8.04   \n",
       "2          3.32         257.0         186.0          61.3          8.14   \n",
       "3          3.33         257.0         185.0          61.2          8.21   \n",
       "4          3.31         257.0         185.0          61.4          8.04   \n",
       "\n",
       "   NAPM7_48H__0  DLDI4_48H__0  \n",
       "0         157.0          55.1  \n",
       "1         157.0          55.2  \n",
       "2         156.0          55.2  \n",
       "3         156.0          55.9  \n",
       "4         156.0          55.9  \n",
       "\n",
       "[5 rows x 73 columns]"
      ]
     },
     "execution_count": 383,
     "metadata": {},
     "output_type": "execute_result"
    }
   ],
   "source": [
    "df = pd.read_csv(\"Dataset/river_flow.csv\")\n",
    "df = df.rename(columns={\"Unnamed: 0\" : \"id\"})\n",
    "df.head()"
   ]
  },
  {
   "cell_type": "code",
   "execution_count": 384,
   "id": "517f9e67",
   "metadata": {},
   "outputs": [
    {
     "data": {
      "text/plain": [
       "(9125, 73)"
      ]
     },
     "execution_count": 384,
     "metadata": {},
     "output_type": "execute_result"
    }
   ],
   "source": [
    "# In total, there are 64 features and 8 values in the dataset for regression prediction\n",
    "df.shape"
   ]
  },
  {
   "cell_type": "code",
   "execution_count": 385,
   "id": "8f448c28",
   "metadata": {},
   "outputs": [
    {
     "data": {
      "text/html": [
       "<div>\n",
       "<style scoped>\n",
       "    .dataframe tbody tr th:only-of-type {\n",
       "        vertical-align: middle;\n",
       "    }\n",
       "\n",
       "    .dataframe tbody tr th {\n",
       "        vertical-align: top;\n",
       "    }\n",
       "\n",
       "    .dataframe thead th {\n",
       "        text-align: right;\n",
       "    }\n",
       "</style>\n",
       "<table border=\"1\" class=\"dataframe\">\n",
       "  <thead>\n",
       "    <tr style=\"text-align: right;\">\n",
       "      <th></th>\n",
       "      <th>id</th>\n",
       "      <th>CHSI2__0</th>\n",
       "      <th>NASI2__0</th>\n",
       "      <th>EADM7__0</th>\n",
       "      <th>SCLM7__0</th>\n",
       "      <th>CLKM7__0</th>\n",
       "      <th>VALI2__0</th>\n",
       "      <th>NAPM7__0</th>\n",
       "      <th>DLDI4__0</th>\n",
       "      <th>CHSI2__-6</th>\n",
       "      <th>...</th>\n",
       "      <th>NAPM7__-60</th>\n",
       "      <th>DLDI4__-60</th>\n",
       "      <th>CHSI2_48H__0</th>\n",
       "      <th>NASI2_48H__0</th>\n",
       "      <th>EADM7_48H__0</th>\n",
       "      <th>SCLM7_48H__0</th>\n",
       "      <th>CLKM7_48H__0</th>\n",
       "      <th>VALI2_48H__0</th>\n",
       "      <th>NAPM7_48H__0</th>\n",
       "      <th>DLDI4_48H__0</th>\n",
       "    </tr>\n",
       "  </thead>\n",
       "  <tbody>\n",
       "    <tr>\n",
       "      <th>60</th>\n",
       "      <td>60</td>\n",
       "      <td>264.0</td>\n",
       "      <td>3.24</td>\n",
       "      <td>257.0</td>\n",
       "      <td>184.0</td>\n",
       "      <td>62.3</td>\n",
       "      <td>8.21</td>\n",
       "      <td>157.0</td>\n",
       "      <td>57.1</td>\n",
       "      <td>265.0</td>\n",
       "      <td>...</td>\n",
       "      <td>166.0</td>\n",
       "      <td>59.5</td>\n",
       "      <td>259.0</td>\n",
       "      <td>3.16</td>\n",
       "      <td>251.0</td>\n",
       "      <td>174.0</td>\n",
       "      <td>67.5</td>\n",
       "      <td>8.92</td>\n",
       "      <td>149.0</td>\n",
       "      <td>57.1</td>\n",
       "    </tr>\n",
       "    <tr>\n",
       "      <th>61</th>\n",
       "      <td>61</td>\n",
       "      <td>264.0</td>\n",
       "      <td>3.25</td>\n",
       "      <td>255.0</td>\n",
       "      <td>184.0</td>\n",
       "      <td>62.8</td>\n",
       "      <td>8.04</td>\n",
       "      <td>157.0</td>\n",
       "      <td>57.0</td>\n",
       "      <td>265.0</td>\n",
       "      <td>...</td>\n",
       "      <td>165.0</td>\n",
       "      <td>59.4</td>\n",
       "      <td>258.0</td>\n",
       "      <td>3.18</td>\n",
       "      <td>250.0</td>\n",
       "      <td>174.0</td>\n",
       "      <td>67.6</td>\n",
       "      <td>9.16</td>\n",
       "      <td>148.0</td>\n",
       "      <td>57.3</td>\n",
       "    </tr>\n",
       "    <tr>\n",
       "      <th>62</th>\n",
       "      <td>62</td>\n",
       "      <td>264.0</td>\n",
       "      <td>3.25</td>\n",
       "      <td>256.0</td>\n",
       "      <td>184.0</td>\n",
       "      <td>63.1</td>\n",
       "      <td>8.14</td>\n",
       "      <td>156.0</td>\n",
       "      <td>57.0</td>\n",
       "      <td>264.0</td>\n",
       "      <td>...</td>\n",
       "      <td>165.0</td>\n",
       "      <td>59.4</td>\n",
       "      <td>259.0</td>\n",
       "      <td>3.18</td>\n",
       "      <td>250.0</td>\n",
       "      <td>173.0</td>\n",
       "      <td>68.1</td>\n",
       "      <td>8.99</td>\n",
       "      <td>148.0</td>\n",
       "      <td>57.3</td>\n",
       "    </tr>\n",
       "    <tr>\n",
       "      <th>63</th>\n",
       "      <td>63</td>\n",
       "      <td>265.0</td>\n",
       "      <td>3.26</td>\n",
       "      <td>256.0</td>\n",
       "      <td>183.0</td>\n",
       "      <td>62.4</td>\n",
       "      <td>8.11</td>\n",
       "      <td>157.0</td>\n",
       "      <td>57.0</td>\n",
       "      <td>264.0</td>\n",
       "      <td>...</td>\n",
       "      <td>164.0</td>\n",
       "      <td>57.9</td>\n",
       "      <td>260.0</td>\n",
       "      <td>3.18</td>\n",
       "      <td>250.0</td>\n",
       "      <td>173.0</td>\n",
       "      <td>67.9</td>\n",
       "      <td>8.99</td>\n",
       "      <td>148.0</td>\n",
       "      <td>57.3</td>\n",
       "    </tr>\n",
       "    <tr>\n",
       "      <th>64</th>\n",
       "      <td>64</td>\n",
       "      <td>266.0</td>\n",
       "      <td>3.25</td>\n",
       "      <td>255.0</td>\n",
       "      <td>183.0</td>\n",
       "      <td>63.2</td>\n",
       "      <td>7.90</td>\n",
       "      <td>156.0</td>\n",
       "      <td>57.0</td>\n",
       "      <td>266.0</td>\n",
       "      <td>...</td>\n",
       "      <td>165.0</td>\n",
       "      <td>57.9</td>\n",
       "      <td>259.0</td>\n",
       "      <td>3.18</td>\n",
       "      <td>250.0</td>\n",
       "      <td>173.0</td>\n",
       "      <td>68.1</td>\n",
       "      <td>8.99</td>\n",
       "      <td>147.0</td>\n",
       "      <td>57.3</td>\n",
       "    </tr>\n",
       "    <tr>\n",
       "      <th>...</th>\n",
       "      <td>...</td>\n",
       "      <td>...</td>\n",
       "      <td>...</td>\n",
       "      <td>...</td>\n",
       "      <td>...</td>\n",
       "      <td>...</td>\n",
       "      <td>...</td>\n",
       "      <td>...</td>\n",
       "      <td>...</td>\n",
       "      <td>...</td>\n",
       "      <td>...</td>\n",
       "      <td>...</td>\n",
       "      <td>...</td>\n",
       "      <td>...</td>\n",
       "      <td>...</td>\n",
       "      <td>...</td>\n",
       "      <td>...</td>\n",
       "      <td>...</td>\n",
       "      <td>...</td>\n",
       "      <td>...</td>\n",
       "      <td>...</td>\n",
       "    </tr>\n",
       "    <tr>\n",
       "      <th>9120</th>\n",
       "      <td>9120</td>\n",
       "      <td>69.1</td>\n",
       "      <td>3.20</td>\n",
       "      <td>86.1</td>\n",
       "      <td>44.5</td>\n",
       "      <td>27.0</td>\n",
       "      <td>5.14</td>\n",
       "      <td>44.7</td>\n",
       "      <td>24.6</td>\n",
       "      <td>69.1</td>\n",
       "      <td>...</td>\n",
       "      <td>44.7</td>\n",
       "      <td>24.5</td>\n",
       "      <td>75.2</td>\n",
       "      <td>3.33</td>\n",
       "      <td>86.1</td>\n",
       "      <td>45.2</td>\n",
       "      <td>24.4</td>\n",
       "      <td>5.21</td>\n",
       "      <td>44.6</td>\n",
       "      <td>22.7</td>\n",
       "    </tr>\n",
       "    <tr>\n",
       "      <th>9121</th>\n",
       "      <td>9121</td>\n",
       "      <td>69.2</td>\n",
       "      <td>3.18</td>\n",
       "      <td>86.1</td>\n",
       "      <td>44.1</td>\n",
       "      <td>27.2</td>\n",
       "      <td>5.18</td>\n",
       "      <td>44.7</td>\n",
       "      <td>24.6</td>\n",
       "      <td>68.9</td>\n",
       "      <td>...</td>\n",
       "      <td>44.7</td>\n",
       "      <td>25.0</td>\n",
       "      <td>75.7</td>\n",
       "      <td>3.33</td>\n",
       "      <td>86.1</td>\n",
       "      <td>45.4</td>\n",
       "      <td>24.4</td>\n",
       "      <td>5.21</td>\n",
       "      <td>44.6</td>\n",
       "      <td>23.2</td>\n",
       "    </tr>\n",
       "    <tr>\n",
       "      <th>9122</th>\n",
       "      <td>9122</td>\n",
       "      <td>69.2</td>\n",
       "      <td>3.15</td>\n",
       "      <td>86.1</td>\n",
       "      <td>44.3</td>\n",
       "      <td>27.2</td>\n",
       "      <td>5.33</td>\n",
       "      <td>44.7</td>\n",
       "      <td>24.6</td>\n",
       "      <td>69.5</td>\n",
       "      <td>...</td>\n",
       "      <td>44.7</td>\n",
       "      <td>25.0</td>\n",
       "      <td>76.1</td>\n",
       "      <td>3.31</td>\n",
       "      <td>86.1</td>\n",
       "      <td>45.2</td>\n",
       "      <td>24.4</td>\n",
       "      <td>5.21</td>\n",
       "      <td>44.6</td>\n",
       "      <td>23.2</td>\n",
       "    </tr>\n",
       "    <tr>\n",
       "      <th>9123</th>\n",
       "      <td>9123</td>\n",
       "      <td>69.0</td>\n",
       "      <td>3.17</td>\n",
       "      <td>86.1</td>\n",
       "      <td>44.4</td>\n",
       "      <td>27.2</td>\n",
       "      <td>5.48</td>\n",
       "      <td>44.7</td>\n",
       "      <td>24.6</td>\n",
       "      <td>69.2</td>\n",
       "      <td>...</td>\n",
       "      <td>44.7</td>\n",
       "      <td>25.0</td>\n",
       "      <td>75.5</td>\n",
       "      <td>3.26</td>\n",
       "      <td>86.1</td>\n",
       "      <td>45.2</td>\n",
       "      <td>24.2</td>\n",
       "      <td>5.25</td>\n",
       "      <td>44.6</td>\n",
       "      <td>23.2</td>\n",
       "    </tr>\n",
       "    <tr>\n",
       "      <th>9124</th>\n",
       "      <td>9124</td>\n",
       "      <td>69.2</td>\n",
       "      <td>3.18</td>\n",
       "      <td>86.1</td>\n",
       "      <td>44.2</td>\n",
       "      <td>27.0</td>\n",
       "      <td>5.44</td>\n",
       "      <td>44.7</td>\n",
       "      <td>24.6</td>\n",
       "      <td>69.3</td>\n",
       "      <td>...</td>\n",
       "      <td>44.7</td>\n",
       "      <td>25.0</td>\n",
       "      <td>76.4</td>\n",
       "      <td>3.26</td>\n",
       "      <td>86.1</td>\n",
       "      <td>45.4</td>\n",
       "      <td>24.2</td>\n",
       "      <td>5.36</td>\n",
       "      <td>44.6</td>\n",
       "      <td>23.2</td>\n",
       "    </tr>\n",
       "  </tbody>\n",
       "</table>\n",
       "<p>9005 rows × 73 columns</p>\n",
       "</div>"
      ],
      "text/plain": [
       "        id  CHSI2__0  NASI2__0  EADM7__0  SCLM7__0  CLKM7__0  VALI2__0  \\\n",
       "60      60     264.0      3.24     257.0     184.0      62.3      8.21   \n",
       "61      61     264.0      3.25     255.0     184.0      62.8      8.04   \n",
       "62      62     264.0      3.25     256.0     184.0      63.1      8.14   \n",
       "63      63     265.0      3.26     256.0     183.0      62.4      8.11   \n",
       "64      64     266.0      3.25     255.0     183.0      63.2      7.90   \n",
       "...    ...       ...       ...       ...       ...       ...       ...   \n",
       "9120  9120      69.1      3.20      86.1      44.5      27.0      5.14   \n",
       "9121  9121      69.2      3.18      86.1      44.1      27.2      5.18   \n",
       "9122  9122      69.2      3.15      86.1      44.3      27.2      5.33   \n",
       "9123  9123      69.0      3.17      86.1      44.4      27.2      5.48   \n",
       "9124  9124      69.2      3.18      86.1      44.2      27.0      5.44   \n",
       "\n",
       "      NAPM7__0  DLDI4__0  CHSI2__-6  ...  NAPM7__-60  DLDI4__-60  \\\n",
       "60       157.0      57.1      265.0  ...       166.0        59.5   \n",
       "61       157.0      57.0      265.0  ...       165.0        59.4   \n",
       "62       156.0      57.0      264.0  ...       165.0        59.4   \n",
       "63       157.0      57.0      264.0  ...       164.0        57.9   \n",
       "64       156.0      57.0      266.0  ...       165.0        57.9   \n",
       "...        ...       ...        ...  ...         ...         ...   \n",
       "9120      44.7      24.6       69.1  ...        44.7        24.5   \n",
       "9121      44.7      24.6       68.9  ...        44.7        25.0   \n",
       "9122      44.7      24.6       69.5  ...        44.7        25.0   \n",
       "9123      44.7      24.6       69.2  ...        44.7        25.0   \n",
       "9124      44.7      24.6       69.3  ...        44.7        25.0   \n",
       "\n",
       "      CHSI2_48H__0  NASI2_48H__0  EADM7_48H__0  SCLM7_48H__0  CLKM7_48H__0  \\\n",
       "60           259.0          3.16         251.0         174.0          67.5   \n",
       "61           258.0          3.18         250.0         174.0          67.6   \n",
       "62           259.0          3.18         250.0         173.0          68.1   \n",
       "63           260.0          3.18         250.0         173.0          67.9   \n",
       "64           259.0          3.18         250.0         173.0          68.1   \n",
       "...            ...           ...           ...           ...           ...   \n",
       "9120          75.2          3.33          86.1          45.2          24.4   \n",
       "9121          75.7          3.33          86.1          45.4          24.4   \n",
       "9122          76.1          3.31          86.1          45.2          24.4   \n",
       "9123          75.5          3.26          86.1          45.2          24.2   \n",
       "9124          76.4          3.26          86.1          45.4          24.2   \n",
       "\n",
       "      VALI2_48H__0  NAPM7_48H__0  DLDI4_48H__0  \n",
       "60            8.92         149.0          57.1  \n",
       "61            9.16         148.0          57.3  \n",
       "62            8.99         148.0          57.3  \n",
       "63            8.99         148.0          57.3  \n",
       "64            8.99         147.0          57.3  \n",
       "...            ...           ...           ...  \n",
       "9120          5.21          44.6          22.7  \n",
       "9121          5.21          44.6          23.2  \n",
       "9122          5.21          44.6          23.2  \n",
       "9123          5.25          44.6          23.2  \n",
       "9124          5.36          44.6          23.2  \n",
       "\n",
       "[9005 rows x 73 columns]"
      ]
     },
     "execution_count": 385,
     "metadata": {},
     "output_type": "execute_result"
    }
   ],
   "source": [
    "df.dropna()"
   ]
  },
  {
   "attachments": {},
   "cell_type": "markdown",
   "id": "a70b439f",
   "metadata": {},
   "source": [
    "The dataset size is over 9000 observations. At the same time, observations with missing values are slightly less than 2%. These values have been removed from the dataset.\n",
    "In the future, it will be necessary to remove the column with the observation id, but for now it is necessary for preliminary data analysis."
   ]
  },
  {
   "cell_type": "markdown",
   "id": "eeee76f9",
   "metadata": {},
   "source": [
    "### EDA"
   ]
  },
  {
   "cell_type": "code",
   "execution_count": 386,
   "id": "eb01254e",
   "metadata": {},
   "outputs": [],
   "source": [
    "col0 = df.columns.tolist()"
   ]
  },
  {
   "cell_type": "code",
   "execution_count": 387,
   "id": "62a37d4e",
   "metadata": {},
   "outputs": [
    {
     "name": "stdout",
     "output_type": "stream",
     "text": [
      "River name:  {'EADM7', 'DLDI4', 'id', 'SCLM7', 'NASI2', 'CHSI2', 'VALI2', 'NAPM7', 'CLKM7'}\n",
      "Observation time:  {'', '_-12', '_-6', '_-48', '_-24', '_-60', '_-18', '_-36', '_0', '48H__0'}\n"
     ]
    }
   ],
   "source": [
    "names = set()\n",
    "times = set()\n",
    "for item in col0:\n",
    "    name = item.split('_')[0]\n",
    "    names.add(name)\n",
    "    time_feature = item[len(name) + 1 :]\n",
    "    times.add(time_feature)\n",
    "print(\"River name: \", names)\n",
    "print(\"Observation time: \", times)"
   ]
  },
  {
   "attachments": {},
   "cell_type": "markdown",
   "id": "1f590af2",
   "metadata": {},
   "source": [
    "Observations have a time delay of 0, 6, 12, 18, 24, 36, 48 and 60 hours for eight different rivers.\n",
    "We predict the state in which the river will be in 48 hours (feature suffix 48H__0)."
   ]
  },
  {
   "cell_type": "code",
   "execution_count": 388,
   "id": "31b1630a",
   "metadata": {},
   "outputs": [
    {
     "name": "stdout",
     "output_type": "stream",
     "text": [
      "['CHSI2__0', 'CLKM7__0', 'DLDI4__0', 'EADM7__0', 'NAPM7__0', 'NASI2__0', 'SCLM7__0', 'VALI2__0']\n"
     ]
    }
   ],
   "source": [
    "# Consider changes in the river flow index over time for each of the rivers.\n",
    "col1 = []\n",
    "for item in col0:\n",
    "    if \"_0\" in item and \"_48H\" not in item:\n",
    "        col1 += [item]\n",
    "col1 = sorted(col1)\n",
    "print(col1)"
   ]
  },
  {
   "cell_type": "code",
   "execution_count": 389,
   "id": "f6d79f73",
   "metadata": {
    "scrolled": false
   },
   "outputs": [
    {
     "data": {
      "image/png": "[encoded data removed]",
      "text/plain": [
       "<Figure size 1000x600 with 1 Axes>"
      ]
     },
     "metadata": {},
     "output_type": "display_data"
    }
   ],
   "source": [
    "plt.figure(figsize=(10, 6))\n",
    "plt.xlabel(\"index\")\n",
    "plt.ylabel(\"River flow\")\n",
    "for item in col1:\n",
    "    plt.plot(df[\"id\"], df[item])\n",
    "\n",
    "plt.show()    "
   ]
  },
  {
   "attachments": {},
   "cell_type": "markdown",
   "id": "e969c325",
   "metadata": {},
   "source": [
    "It can be seen that the dataset contains rivers both with the river flow index, which varies slightly, and with a strong change over time.\n",
    "\n",
    "It can also be said that the two rivers have very similar plots of river flow index versus observation time. It is possible that the corresponding features for one of the rivers can be removed and its index can be predicted from the features of the second river."
   ]
  },
  {
   "cell_type": "code",
   "execution_count": 390,
   "id": "a8cfba6e",
   "metadata": {},
   "outputs": [
    {
     "data": {
      "text/html": [
       "<div>\n",
       "<style scoped>\n",
       "    .dataframe tbody tr th:only-of-type {\n",
       "        vertical-align: middle;\n",
       "    }\n",
       "\n",
       "    .dataframe tbody tr th {\n",
       "        vertical-align: top;\n",
       "    }\n",
       "\n",
       "    .dataframe thead th {\n",
       "        text-align: right;\n",
       "    }\n",
       "</style>\n",
       "<table border=\"1\" class=\"dataframe\">\n",
       "  <thead>\n",
       "    <tr style=\"text-align: right;\">\n",
       "      <th></th>\n",
       "      <th>CHSI2_48H__0</th>\n",
       "      <th>NASI2_48H__0</th>\n",
       "      <th>EADM7_48H__0</th>\n",
       "      <th>SCLM7_48H__0</th>\n",
       "      <th>CLKM7_48H__0</th>\n",
       "      <th>VALI2_48H__0</th>\n",
       "      <th>NAPM7_48H__0</th>\n",
       "      <th>DLDI4_48H__0</th>\n",
       "    </tr>\n",
       "  </thead>\n",
       "  <tbody>\n",
       "    <tr>\n",
       "      <th>60</th>\n",
       "      <td>259.0</td>\n",
       "      <td>3.16</td>\n",
       "      <td>251.0</td>\n",
       "      <td>174.0</td>\n",
       "      <td>67.5</td>\n",
       "      <td>8.92</td>\n",
       "      <td>149.0</td>\n",
       "      <td>57.1</td>\n",
       "    </tr>\n",
       "    <tr>\n",
       "      <th>61</th>\n",
       "      <td>258.0</td>\n",
       "      <td>3.18</td>\n",
       "      <td>250.0</td>\n",
       "      <td>174.0</td>\n",
       "      <td>67.6</td>\n",
       "      <td>9.16</td>\n",
       "      <td>148.0</td>\n",
       "      <td>57.3</td>\n",
       "    </tr>\n",
       "    <tr>\n",
       "      <th>62</th>\n",
       "      <td>259.0</td>\n",
       "      <td>3.18</td>\n",
       "      <td>250.0</td>\n",
       "      <td>173.0</td>\n",
       "      <td>68.1</td>\n",
       "      <td>8.99</td>\n",
       "      <td>148.0</td>\n",
       "      <td>57.3</td>\n",
       "    </tr>\n",
       "    <tr>\n",
       "      <th>63</th>\n",
       "      <td>260.0</td>\n",
       "      <td>3.18</td>\n",
       "      <td>250.0</td>\n",
       "      <td>173.0</td>\n",
       "      <td>67.9</td>\n",
       "      <td>8.99</td>\n",
       "      <td>148.0</td>\n",
       "      <td>57.3</td>\n",
       "    </tr>\n",
       "    <tr>\n",
       "      <th>64</th>\n",
       "      <td>259.0</td>\n",
       "      <td>3.18</td>\n",
       "      <td>250.0</td>\n",
       "      <td>173.0</td>\n",
       "      <td>68.1</td>\n",
       "      <td>8.99</td>\n",
       "      <td>147.0</td>\n",
       "      <td>57.3</td>\n",
       "    </tr>\n",
       "  </tbody>\n",
       "</table>\n",
       "</div>"
      ],
      "text/plain": [
       "    CHSI2_48H__0  NASI2_48H__0  EADM7_48H__0  SCLM7_48H__0  CLKM7_48H__0  \\\n",
       "60         259.0          3.16         251.0         174.0          67.5   \n",
       "61         258.0          3.18         250.0         174.0          67.6   \n",
       "62         259.0          3.18         250.0         173.0          68.1   \n",
       "63         260.0          3.18         250.0         173.0          67.9   \n",
       "64         259.0          3.18         250.0         173.0          68.1   \n",
       "\n",
       "    VALI2_48H__0  NAPM7_48H__0  DLDI4_48H__0  \n",
       "60          8.92         149.0          57.1  \n",
       "61          9.16         148.0          57.3  \n",
       "62          8.99         148.0          57.3  \n",
       "63          8.99         148.0          57.3  \n",
       "64          8.99         147.0          57.3  "
      ]
     },
     "execution_count": 390,
     "metadata": {},
     "output_type": "execute_result"
    }
   ],
   "source": [
    "# Consider the correlation of river flow indices for rivers, taking the correlation matrix for zero observation.\n",
    "import os\n",
    "from scipy.io import arff\n",
    "\n",
    "\n",
    "def dt(path):\n",
    "    df = arff.loadarff(path)\n",
    "    df = pd.DataFrame(df[0])\n",
    "    return df\n",
    "\n",
    "\n",
    "d = 64\n",
    "df = dt(\"Dataset/river_flow.arff\")\n",
    "df = df.dropna(axis=0)\n",
    "X = (df.iloc[:, :d])\n",
    "y = (df.iloc[:, d:])\n",
    "y.head()"
   ]
  },
  {
   "cell_type": "code",
   "execution_count": 391,
   "id": "89fcc631",
   "metadata": {},
   "outputs": [
    {
     "data": {
      "text/plain": [
       "<AxesSubplot: >"
      ]
     },
     "execution_count": 391,
     "metadata": {},
     "output_type": "execute_result"
    },
    {
     "data": {
      "image/png": "[encoded data removed]",
      "text/plain": [
       "<Figure size 1000x500 with 2 Axes>"
      ]
     },
     "metadata": {},
     "output_type": "display_data"
    }
   ],
   "source": [
    "fig, ax = plt.subplots(1, 1, figsize=(10, 5))\n",
    "mask = np.triu(np.ones_like(y.corr(), dtype=bool))\n",
    "sns.heatmap(y.corr(),\n",
    "            annot=True,\n",
    "            mask=mask,\n",
    "            ax=ax,\n",
    "            center=0,\n",
    "            linewidths=1,\n",
    "            vmax=1)"
   ]
  },
  {
   "attachments": {},
   "cell_type": "markdown",
   "id": "2581747b",
   "metadata": {},
   "source": [
    "It can be seen from the matrix that the river flow indices for the two rivers are indeed very correlated with each other.\n",
    "This means that when cleaning the data, it is possible to remove features corresponding to the EADM7 river."
   ]
  },
  {
   "cell_type": "markdown",
   "id": "cbc173d9",
   "metadata": {},
   "source": [
    "### Data cleaning"
   ]
  },
  {
   "cell_type": "code",
   "execution_count": 392,
   "id": "610f5a60",
   "metadata": {},
   "outputs": [
    {
     "data": {
      "text/plain": [
       "(9005, 65)"
      ]
     },
     "execution_count": 392,
     "metadata": {},
     "output_type": "execute_result"
    }
   ],
   "source": [
    "# Remove features associated with the EADM7 river.\n",
    "df = df.drop(columns={\"EADM7__0\", \"EADM7__-6\", \"EADM7__-12\", \"EADM7__-24\",\n",
    "                      \"EADM7__-36\", \"EADM7__-48\", \"EADM7__-60\"})\n",
    "df.shape"
   ]
  },
  {
   "attachments": {},
   "cell_type": "markdown",
   "id": "2cea49b6",
   "metadata": {},
   "source": [
    "### Data partitioning and scaling"
   ]
  },
  {
   "cell_type": "code",
   "execution_count": 393,
   "id": "64989645",
   "metadata": {},
   "outputs": [
    {
     "name": "stdout",
     "output_type": "stream",
     "text": [
      "Shape of X_train:  (6753, 64)\n",
      "Shape of X_test:  (2252, 64)\n",
      "Shape of y_train:  (6753, 8)\n",
      "Shape of y_test:  (2252, 8)\n"
     ]
    }
   ],
   "source": [
    "from sklearn.model_selection import train_test_split\n",
    "\n",
    "\n",
    "X_train, X_test, y_train, y_test = train_test_split(X, y, test_size=0.25, random_state=42)\n",
    "print(\"Shape of X_train: \", X_train.shape)\n",
    "print(\"Shape of X_test: \", X_test.shape)\n",
    "print(\"Shape of y_train: \", y_train.shape)\n",
    "print(\"Shape of y_test: \", y_test.shape)"
   ]
  },
  {
   "attachments": {},
   "cell_type": "markdown",
   "id": "93783aa2",
   "metadata": {},
   "source": [
    "### Model training"
   ]
  },
  {
   "cell_type": "code",
   "execution_count": null,
   "id": "9e2870ea",
   "metadata": {},
   "outputs": [],
   "source": [
    "from numpy import absolute\n",
    "from numpy import mean\n",
    "from numpy import std\n",
    "from sklearn.linear_model import Ridge\n",
    "from sklearn.multioutput import MultiOutputRegressor, RegressorChain\n",
    "from sklearn.model_selection import cross_validate\n",
    "from sklearn.metrics import r2_score\n",
    "\n",
    "\n",
    "steps = [\n",
    "    (\"scalar\", StandardScaler()),\n",
    "    (\"model\", Ridge(random_state=42))\n",
    "]\n",
    "\n",
    "pipe = Pipeline(steps)\n",
    "\n",
    "alpha_grid = np.logspace(-100, 100, 20)\n",
    "searcher = GridSearchCV(pipe, [{\"model__alpha\": alpha_grid}], scoring=\"r2\", cv=5)\n",
    "searcher.fit(X_train, y_train)"
   ]
  },
  {
   "cell_type": "code",
   "execution_count": 397,
   "id": "3faf4443",
   "metadata": {},
   "outputs": [
    {
     "name": "stdout",
     "output_type": "stream",
     "text": [
      "r2 score Ridge model training and multioutput regression:  0.8318809585423473\n",
      "r2 score test Ridge model and multioutput regression:  0.757419292850752\n"
     ]
    }
   ],
   "source": [
    "import time\n",
    "\n",
    "\n",
    "mo_regr = MultiOutputRegressor(searcher)\n",
    "start_mo_regr = time.time()\n",
    "mo_regr.fit(X_train, y_train)\n",
    "mo_regr_train_time_diff = time.time() - start_mo_regr\n",
    "\n",
    "y_pred_train = mo_regr.predict(X_train)\n",
    "mo_regr_accuracy_train = r2_score(y_train, y_pred_train)\n",
    "print(\"r2 score Ridge model training and multioutput regression: \", mo_regr_accuracy_train)\n",
    "\n",
    "y_pred = mo_regr.predict(X_test)\n",
    "mo_regr_accuracy_test = r2_score(y_test, y_pred)\n",
    "print(\"r2 score test Ridge model and multioutput regression: \", mo_regr_accuracy_test)"
   ]
  },
  {
   "cell_type": "code",
   "execution_count": 398,
   "id": "a8482171",
   "metadata": {},
   "outputs": [
    {
     "name": "stdout",
     "output_type": "stream",
     "text": [
      "r2 score Ridge model training and multioutput regression:  0.8319092321447996\n",
      "r2 score test Ridge model and multioutput regression:  0.7595552730086752\n"
     ]
    }
   ],
   "source": [
    "regr_ch = RegressorChain(searcher).fit(X_train, y_train)\n",
    "start_regr_ch = time.time()\n",
    "regr_ch.fit(X_train, y_train)\n",
    "regr_ch_train_time_diff = time.time() - start_regr_ch\n",
    "\n",
    "y_pred_train = regr_ch.predict(X_train)\n",
    "regr_ch_accuracy_train = r2_score(y_train, y_pred_train)\n",
    "print(\"r2 score Ridge model training and multioutput regression: \", regr_ch_accuracy_train)\n",
    "\n",
    "y_pred = regr_ch.predict(X_test)\n",
    "regr_ch_accuracy_test = r2_score(y_test, y_pred)\n",
    "print(\"r2 score test Ridge model and multioutput regression: \", regr_ch_accuracy_test)"
   ]
  },
  {
   "attachments": {},
   "cell_type": "markdown",
   "id": "98fd6297",
   "metadata": {},
   "source": [
    "### Compare models"
   ]
  },
  {
   "cell_type": "code",
   "execution_count": 399,
   "id": "9439ad94",
   "metadata": {},
   "outputs": [
    {
     "name": "stdout",
     "output_type": "stream",
     "text": [
      "                   Model  Training R2   Test R2  Training time\n",
      "0  Multioutput regressor     0.831881  0.757419      58.592263\n",
      "1        Regressor chain     0.831909  0.759555      27.066392\n"
     ]
    }
   ],
   "source": [
    "models = [(\"Multioutput regressor\", mo_regr_accuracy_train, mo_regr_accuracy_test, mo_regr_train_time_diff),\n",
    "          (\"Regressor chain\", regr_ch_accuracy_train, regr_ch_accuracy_test, regr_ch_train_time_diff)\n",
    "         ]\n",
    "\n",
    "predict = pd.DataFrame(data=models, columns=[\"Model\", \"Training R2\", \"Test R2\", \"Training time\"])\n",
    "print(predict)"
   ]
  },
  {
   "attachments": {},
   "cell_type": "markdown",
   "id": "f00d612b",
   "metadata": {},
   "source": [
    "- The Regressor Chain strategy showed a slightly higher value of the R2 metric than the Multioutput regressor\n",
    "- In general, both models showed high accuracy\n",
    "- Also Regressor Chain learned faster"
   ]
  }
 ],
 "metadata": {
  "kernelspec": {
   "display_name": "Python 3.10.5 64-bit",
   "language": "python",
   "name": "python3"
  },
  "language_info": {
   "codemirror_mode": {
    "name": "ipython",
    "version": 3
   },
   "file_extension": ".py",
   "mimetype": "text/x-python",
   "name": "python",
   "nbconvert_exporter": "python",
   "pygments_lexer": "ipython3",
   "version": "3.10.5"
  },
  "vscode": {
   "interpreter": {
    "hash": "d74713e441da6fd660c9bfdc078172662258680d893f34e5e4811cd55f0f895c"
   }
  }
 },
 "nbformat": 4,
 "nbformat_minor": 5
}
